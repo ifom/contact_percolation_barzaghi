{
 "cells": [
  {
   "cell_type": "code",
   "execution_count": 1,
   "id": "55c48574-d296-41a1-8f7b-baa677a04eb4",
   "metadata": {
    "scrolled": true,
    "vscode": {
     "languageId": "r"
    }
   },
   "outputs": [
    {
     "name": "stderr",
     "output_type": "stream",
     "text": [
      "\n",
      "Attaching package: ‘dplyr’\n",
      "\n",
      "\n",
      "The following objects are masked from ‘package:stats’:\n",
      "\n",
      "    filter, lag\n",
      "\n",
      "\n",
      "The following objects are masked from ‘package:base’:\n",
      "\n",
      "    intersect, setdiff, setequal, union\n",
      "\n",
      "\n",
      "Loading required package: S4Vectors\n",
      "\n",
      "Loading required package: stats4\n",
      "\n",
      "Loading required package: BiocGenerics\n",
      "\n",
      "\n",
      "Attaching package: ‘BiocGenerics’\n",
      "\n",
      "\n",
      "The following objects are masked from ‘package:dplyr’:\n",
      "\n",
      "    combine, intersect, setdiff, union\n",
      "\n",
      "\n",
      "The following objects are masked from ‘package:stats’:\n",
      "\n",
      "    IQR, mad, sd, var, xtabs\n",
      "\n",
      "\n",
      "The following objects are masked from ‘package:base’:\n",
      "\n",
      "    anyDuplicated, aperm, append, as.data.frame, basename, cbind,\n",
      "    colnames, dirname, do.call, duplicated, eval, evalq, Filter, Find,\n",
      "    get, grep, grepl, intersect, is.unsorted, lapply, Map, mapply,\n",
      "    match, mget, order, paste, pmax, pmax.int, pmin, pmin.int,\n",
      "    Position, rank, rbind, Reduce, rownames, sapply, setdiff, sort,\n",
      "    table, tapply, union, unique, unsplit, which.max, which.min\n",
      "\n",
      "\n",
      "\n",
      "Attaching package: ‘S4Vectors’\n",
      "\n",
      "\n",
      "The following objects are masked from ‘package:dplyr’:\n",
      "\n",
      "    first, rename\n",
      "\n",
      "\n",
      "The following object is masked from ‘package:utils’:\n",
      "\n",
      "    findMatches\n",
      "\n",
      "\n",
      "The following objects are masked from ‘package:base’:\n",
      "\n",
      "    expand.grid, I, unname\n",
      "\n",
      "\n",
      "Loading required package: IRanges\n",
      "\n",
      "\n",
      "Attaching package: ‘IRanges’\n",
      "\n",
      "\n",
      "The following objects are masked from ‘package:dplyr’:\n",
      "\n",
      "    collapse, desc, slice\n",
      "\n",
      "\n",
      "Loading required package: GenomicRanges\n",
      "\n",
      "Loading required package: GenomeInfoDb\n",
      "\n",
      "Loading required package: SummarizedExperiment\n",
      "\n",
      "Loading required package: MatrixGenerics\n",
      "\n",
      "Loading required package: matrixStats\n",
      "\n",
      "\n",
      "Attaching package: ‘matrixStats’\n",
      "\n",
      "\n",
      "The following object is masked from ‘package:dplyr’:\n",
      "\n",
      "    count\n",
      "\n",
      "\n",
      "\n",
      "Attaching package: ‘MatrixGenerics’\n",
      "\n",
      "\n",
      "The following objects are masked from ‘package:matrixStats’:\n",
      "\n",
      "    colAlls, colAnyNAs, colAnys, colAvgsPerRowSet, colCollapse,\n",
      "    colCounts, colCummaxs, colCummins, colCumprods, colCumsums,\n",
      "    colDiffs, colIQRDiffs, colIQRs, colLogSumExps, colMadDiffs,\n",
      "    colMads, colMaxs, colMeans2, colMedians, colMins, colOrderStats,\n",
      "    colProds, colQuantiles, colRanges, colRanks, colSdDiffs, colSds,\n",
      "    colSums2, colTabulates, colVarDiffs, colVars, colWeightedMads,\n",
      "    colWeightedMeans, colWeightedMedians, colWeightedSds,\n",
      "    colWeightedVars, rowAlls, rowAnyNAs, rowAnys, rowAvgsPerColSet,\n",
      "    rowCollapse, rowCounts, rowCummaxs, rowCummins, rowCumprods,\n",
      "    rowCumsums, rowDiffs, rowIQRDiffs, rowIQRs, rowLogSumExps,\n",
      "    rowMadDiffs, rowMads, rowMaxs, rowMeans2, rowMedians, rowMins,\n",
      "    rowOrderStats, rowProds, rowQuantiles, rowRanges, rowRanks,\n",
      "    rowSdDiffs, rowSds, rowSums2, rowTabulates, rowVarDiffs, rowVars,\n",
      "    rowWeightedMads, rowWeightedMeans, rowWeightedMedians,\n",
      "    rowWeightedSds, rowWeightedVars\n",
      "\n",
      "\n",
      "Loading required package: Biobase\n",
      "\n",
      "Welcome to Bioconductor\n",
      "\n",
      "    Vignettes contain introductory material; view with\n",
      "    'browseVignettes()'. To cite Bioconductor, see\n",
      "    'citation(\"Biobase\")', and for packages 'citation(\"pkgname\")'.\n",
      "\n",
      "\n",
      "\n",
      "Attaching package: ‘Biobase’\n",
      "\n",
      "\n",
      "The following object is masked from ‘package:MatrixGenerics’:\n",
      "\n",
      "    rowMedians\n",
      "\n",
      "\n",
      "The following objects are masked from ‘package:matrixStats’:\n",
      "\n",
      "    anyMissing, rowMedians\n",
      "\n",
      "\n",
      "Loading required package: viridisLite\n",
      "\n",
      "\n",
      "Attaching package: ‘viridis’\n",
      "\n",
      "\n",
      "The following object is masked from ‘package:scales’:\n",
      "\n",
      "    viridis_pal\n",
      "\n",
      "\n",
      "\n",
      "Attaching package: ‘gplots’\n",
      "\n",
      "\n",
      "The following object is masked from ‘package:IRanges’:\n",
      "\n",
      "    space\n",
      "\n",
      "\n",
      "The following object is masked from ‘package:S4Vectors’:\n",
      "\n",
      "    space\n",
      "\n",
      "\n",
      "The following object is masked from ‘package:stats’:\n",
      "\n",
      "    lowess\n",
      "\n",
      "\n",
      "Loading required package: futile.logger\n",
      "\n",
      "\n",
      "Attaching package: ‘pals’\n",
      "\n",
      "\n",
      "The following objects are masked from ‘package:viridis’:\n",
      "\n",
      "    cividis, inferno, magma, plasma, turbo, viridis\n",
      "\n",
      "\n",
      "The following objects are masked from ‘package:viridisLite’:\n",
      "\n",
      "    cividis, inferno, magma, plasma, turbo, viridis\n",
      "\n",
      "\n",
      "\n",
      "Attaching package: ‘tidyr’\n",
      "\n",
      "\n",
      "The following object is masked from ‘package:S4Vectors’:\n",
      "\n",
      "    expand\n",
      "\n",
      "\n",
      "\n",
      "Attaching package: ‘data.table’\n",
      "\n",
      "\n",
      "The following object is masked from ‘package:SummarizedExperiment’:\n",
      "\n",
      "    shift\n",
      "\n",
      "\n",
      "The following object is masked from ‘package:GenomicRanges’:\n",
      "\n",
      "    shift\n",
      "\n",
      "\n",
      "The following object is masked from ‘package:IRanges’:\n",
      "\n",
      "    shift\n",
      "\n",
      "\n",
      "The following objects are masked from ‘package:S4Vectors’:\n",
      "\n",
      "    first, second\n",
      "\n",
      "\n",
      "The following objects are masked from ‘package:dplyr’:\n",
      "\n",
      "    between, first, last\n",
      "\n",
      "\n",
      "\n",
      "Attaching package: ‘purrr’\n",
      "\n",
      "\n",
      "The following object is masked from ‘package:data.table’:\n",
      "\n",
      "    transpose\n",
      "\n",
      "\n",
      "The following object is masked from ‘package:scales’:\n",
      "\n",
      "    discard\n",
      "\n",
      "\n",
      "The following object is masked from ‘package:GenomicRanges’:\n",
      "\n",
      "    reduce\n",
      "\n",
      "\n",
      "The following object is masked from ‘package:IRanges’:\n",
      "\n",
      "    reduce\n",
      "\n",
      "\n",
      "\n",
      "Attaching package: ‘ggpubr’\n",
      "\n",
      "\n",
      "The following object is masked from ‘package:VennDiagram’:\n",
      "\n",
      "    rotate\n",
      "\n",
      "\n"
     ]
    }
   ],
   "source": [
    "library(dplyr)\n",
    "library(DESeq2)\n",
    "library(biomaRt)\n",
    "library(RColorBrewer)\n",
    "library(pheatmap)\n",
    "library(ggplot2)\n",
    "library(ggrepel)\n",
    "library(DT)\n",
    "library(scales)\n",
    "library(stringr)\n",
    "library(grid)\n",
    "library(Biobase)\n",
    "library(RColorBrewer)\n",
    "library(colorspace)\n",
    "library(EnhancedVolcano)\n",
    "library(LSD)\n",
    "library(graphics)\n",
    "library(viridis)\n",
    "library(M3C)\n",
    "library(Rtsne)\n",
    "library(gplots)\n",
    "library(readxl)\n",
    "library(VennDiagram)\n",
    "library(pals)\n",
    "library(gprofiler2)\n",
    "library(openxlsx)\n",
    "library(ggvenn)\n",
    "library(tidyr)\n",
    "library(data.table)\n",
    "library(purrr)\n",
    "library(ggpubr)\n",
    "library(gridExtra)"
   ]
  },
  {
   "cell_type": "code",
   "execution_count": 1,
   "id": "3d040d96-7872-4fd0-b958-9ea921189765",
   "metadata": {
    "vscode": {
     "languageId": "r"
    }
   },
   "outputs": [
    {
     "name": "stderr",
     "output_type": "stream",
     "text": [
      "Loading required package: S4Vectors\n",
      "\n",
      "Loading required package: stats4\n",
      "\n",
      "Loading required package: BiocGenerics\n",
      "\n",
      "\n",
      "Attaching package: ‘BiocGenerics’\n",
      "\n",
      "\n",
      "The following objects are masked from ‘package:stats’:\n",
      "\n",
      "    IQR, mad, sd, var, xtabs\n",
      "\n",
      "\n",
      "The following objects are masked from ‘package:base’:\n",
      "\n",
      "    anyDuplicated, aperm, append, as.data.frame, basename, cbind,\n",
      "    colnames, dirname, do.call, duplicated, eval, evalq, Filter, Find,\n",
      "    get, grep, grepl, intersect, is.unsorted, lapply, Map, mapply,\n",
      "    match, mget, order, paste, pmax, pmax.int, pmin, pmin.int,\n",
      "    Position, rank, rbind, Reduce, rownames, sapply, setdiff, sort,\n",
      "    table, tapply, union, unique, unsplit, which.max, which.min\n",
      "\n",
      "\n",
      "\n",
      "Attaching package: ‘S4Vectors’\n",
      "\n",
      "\n",
      "The following object is masked from ‘package:utils’:\n",
      "\n",
      "    findMatches\n",
      "\n",
      "\n",
      "The following objects are masked from ‘package:base’:\n",
      "\n",
      "    expand.grid, I, unname\n",
      "\n",
      "\n",
      "Loading required package: IRanges\n",
      "\n",
      "Loading required package: GenomicRanges\n",
      "\n",
      "Loading required package: GenomeInfoDb\n",
      "\n",
      "Loading required package: SummarizedExperiment\n",
      "\n",
      "Loading required package: MatrixGenerics\n",
      "\n",
      "Loading required package: matrixStats\n",
      "\n",
      "\n",
      "Attaching package: ‘MatrixGenerics’\n",
      "\n",
      "\n",
      "The following objects are masked from ‘package:matrixStats’:\n",
      "\n",
      "    colAlls, colAnyNAs, colAnys, colAvgsPerRowSet, colCollapse,\n",
      "    colCounts, colCummaxs, colCummins, colCumprods, colCumsums,\n",
      "    colDiffs, colIQRDiffs, colIQRs, colLogSumExps, colMadDiffs,\n",
      "    colMads, colMaxs, colMeans2, colMedians, colMins, colOrderStats,\n",
      "    colProds, colQuantiles, colRanges, colRanks, colSdDiffs, colSds,\n",
      "    colSums2, colTabulates, colVarDiffs, colVars, colWeightedMads,\n",
      "    colWeightedMeans, colWeightedMedians, colWeightedSds,\n",
      "    colWeightedVars, rowAlls, rowAnyNAs, rowAnys, rowAvgsPerColSet,\n",
      "    rowCollapse, rowCounts, rowCummaxs, rowCummins, rowCumprods,\n",
      "    rowCumsums, rowDiffs, rowIQRDiffs, rowIQRs, rowLogSumExps,\n",
      "    rowMadDiffs, rowMads, rowMaxs, rowMeans2, rowMedians, rowMins,\n",
      "    rowOrderStats, rowProds, rowQuantiles, rowRanges, rowRanks,\n",
      "    rowSdDiffs, rowSds, rowSums2, rowTabulates, rowVarDiffs, rowVars,\n",
      "    rowWeightedMads, rowWeightedMeans, rowWeightedMedians,\n",
      "    rowWeightedSds, rowWeightedVars\n",
      "\n",
      "\n",
      "Loading required package: Biobase\n",
      "\n",
      "Welcome to Bioconductor\n",
      "\n",
      "    Vignettes contain introductory material; view with\n",
      "    'browseVignettes()'. To cite Bioconductor, see\n",
      "    'citation(\"Biobase\")', and for packages 'citation(\"pkgname\")'.\n",
      "\n",
      "\n",
      "\n",
      "Attaching package: ‘Biobase’\n",
      "\n",
      "\n",
      "The following object is masked from ‘package:MatrixGenerics’:\n",
      "\n",
      "    rowMedians\n",
      "\n",
      "\n",
      "The following objects are masked from ‘package:matrixStats’:\n",
      "\n",
      "    anyMissing, rowMedians\n",
      "\n",
      "\n"
     ]
    }
   ],
   "source": [
    "library(DESeq2)"
   ]
  },
  {
   "cell_type": "code",
   "execution_count": 2,
   "id": "7bb491a7-83ba-456d-bc8c-61b7d6389a59",
   "metadata": {
    "vscode": {
     "languageId": "r"
    }
   },
   "outputs": [],
   "source": [
    "setwd(\"~/LEO_RNA_Seq/merged/\")"
   ]
  },
  {
   "cell_type": "code",
   "execution_count": 3,
   "id": "b5295cc5-6e9d-47fe-96b4-be845963b658",
   "metadata": {
    "vscode": {
     "languageId": "r"
    }
   },
   "outputs": [
    {
     "data": {
      "text/plain": [
       "class: DESeqDataSet \n",
       "dim: 28191 12 \n",
       "metadata(1): version\n",
       "assays(4): counts mu H cooks\n",
       "rownames(28191): 5_8S_rRNA 7SK ... ZZEF1 ZZZ3\n",
       "rowData names(30): baseMean baseVar ... deviance maxCooks\n",
       "colnames(12): EV_1 EV_2 ... RAB5_2 RAB5_3\n",
       "colData names(3): sampletype samplename sizeFactor"
      ]
     },
     "metadata": {},
     "output_type": "display_data"
    }
   ],
   "source": [
    "#load(\"../deseq2.dds.RData\")\n",
    "load(\"../merged/RNA_seq.RData\")\n",
    "dds"
   ]
  },
  {
   "cell_type": "code",
   "execution_count": 4,
   "id": "edaf2f5c-3bdc-42c8-a8c9-7bf02cbe0857",
   "metadata": {
    "vscode": {
     "languageId": "r"
    }
   },
   "outputs": [
    {
     "data": {
      "text/html": [
       "<table class=\"dataframe\">\n",
       "<caption>A data.frame: 6 × 12</caption>\n",
       "<thead>\n",
       "\t<tr><th></th><th scope=col>EV_1</th><th scope=col>EV_2</th><th scope=col>EV_3</th><th scope=col>MIX_1.4_1</th><th scope=col>MIX_1.4_2</th><th scope=col>MIX_1.4_3</th><th scope=col>MIX_4.1_1</th><th scope=col>MIX_4.1_2</th><th scope=col>MIX_4.1_3</th><th scope=col>RAB5_1</th><th scope=col>RAB5_2</th><th scope=col>RAB5_3</th></tr>\n",
       "\t<tr><th></th><th scope=col>&lt;int&gt;</th><th scope=col>&lt;int&gt;</th><th scope=col>&lt;int&gt;</th><th scope=col>&lt;int&gt;</th><th scope=col>&lt;int&gt;</th><th scope=col>&lt;int&gt;</th><th scope=col>&lt;int&gt;</th><th scope=col>&lt;int&gt;</th><th scope=col>&lt;int&gt;</th><th scope=col>&lt;int&gt;</th><th scope=col>&lt;int&gt;</th><th scope=col>&lt;int&gt;</th></tr>\n",
       "</thead>\n",
       "<tbody>\n",
       "\t<tr><th scope=row>5_8S_rRNA</th><td>  0</td><td>  3</td><td>  0</td><td> 21</td><td>  0</td><td>  0</td><td> 10</td><td>  0</td><td> 19</td><td> 21</td><td>  4</td><td>  7</td></tr>\n",
       "\t<tr><th scope=row>7SK</th><td>  0</td><td>126</td><td> 27</td><td> 34</td><td>  2</td><td> 32</td><td>188</td><td>  5</td><td>284</td><td> 77</td><td> 81</td><td>  3</td></tr>\n",
       "\t<tr><th scope=row>A1BG</th><td>  0</td><td> 15</td><td> 40</td><td> 30</td><td>220</td><td> 40</td><td> 25</td><td> 45</td><td> 80</td><td> 25</td><td> 25</td><td> 15</td></tr>\n",
       "\t<tr><th scope=row>A1BG-AS1</th><td>243</td><td>405</td><td>414</td><td>558</td><td>774</td><td>594</td><td>522</td><td>819</td><td>756</td><td>540</td><td>450</td><td>612</td></tr>\n",
       "\t<tr><th scope=row>A1CF</th><td>  0</td><td> 24</td><td> 88</td><td> 24</td><td> 16</td><td> 32</td><td> 48</td><td> 48</td><td>176</td><td>  8</td><td> 32</td><td> 40</td></tr>\n",
       "\t<tr><th scope=row>A2M</th><td>264</td><td>288</td><td>  0</td><td> 48</td><td>612</td><td> 60</td><td> 24</td><td>132</td><td> 24</td><td>840</td><td> 96</td><td>324</td></tr>\n",
       "</tbody>\n",
       "</table>\n"
      ],
      "text/latex": [
       "A data.frame: 6 × 12\n",
       "\\begin{tabular}{r|llllllllllll}\n",
       "  & EV\\_1 & EV\\_2 & EV\\_3 & MIX\\_1.4\\_1 & MIX\\_1.4\\_2 & MIX\\_1.4\\_3 & MIX\\_4.1\\_1 & MIX\\_4.1\\_2 & MIX\\_4.1\\_3 & RAB5\\_1 & RAB5\\_2 & RAB5\\_3\\\\\n",
       "  & <int> & <int> & <int> & <int> & <int> & <int> & <int> & <int> & <int> & <int> & <int> & <int>\\\\\n",
       "\\hline\n",
       "\t5\\_8S\\_rRNA &   0 &   3 &   0 &  21 &   0 &   0 &  10 &   0 &  19 &  21 &   4 &   7\\\\\n",
       "\t7SK &   0 & 126 &  27 &  34 &   2 &  32 & 188 &   5 & 284 &  77 &  81 &   3\\\\\n",
       "\tA1BG &   0 &  15 &  40 &  30 & 220 &  40 &  25 &  45 &  80 &  25 &  25 &  15\\\\\n",
       "\tA1BG-AS1 & 243 & 405 & 414 & 558 & 774 & 594 & 522 & 819 & 756 & 540 & 450 & 612\\\\\n",
       "\tA1CF &   0 &  24 &  88 &  24 &  16 &  32 &  48 &  48 & 176 &   8 &  32 &  40\\\\\n",
       "\tA2M & 264 & 288 &   0 &  48 & 612 &  60 &  24 & 132 &  24 & 840 &  96 & 324\\\\\n",
       "\\end{tabular}\n"
      ],
      "text/markdown": [
       "\n",
       "A data.frame: 6 × 12\n",
       "\n",
       "| <!--/--> | EV_1 &lt;int&gt; | EV_2 &lt;int&gt; | EV_3 &lt;int&gt; | MIX_1.4_1 &lt;int&gt; | MIX_1.4_2 &lt;int&gt; | MIX_1.4_3 &lt;int&gt; | MIX_4.1_1 &lt;int&gt; | MIX_4.1_2 &lt;int&gt; | MIX_4.1_3 &lt;int&gt; | RAB5_1 &lt;int&gt; | RAB5_2 &lt;int&gt; | RAB5_3 &lt;int&gt; |\n",
       "|---|---|---|---|---|---|---|---|---|---|---|---|---|\n",
       "| 5_8S_rRNA |   0 |   3 |   0 |  21 |   0 |   0 |  10 |   0 |  19 |  21 |   4 |   7 |\n",
       "| 7SK |   0 | 126 |  27 |  34 |   2 |  32 | 188 |   5 | 284 |  77 |  81 |   3 |\n",
       "| A1BG |   0 |  15 |  40 |  30 | 220 |  40 |  25 |  45 |  80 |  25 |  25 |  15 |\n",
       "| A1BG-AS1 | 243 | 405 | 414 | 558 | 774 | 594 | 522 | 819 | 756 | 540 | 450 | 612 |\n",
       "| A1CF |   0 |  24 |  88 |  24 |  16 |  32 |  48 |  48 | 176 |   8 |  32 |  40 |\n",
       "| A2M | 264 | 288 |   0 |  48 | 612 |  60 |  24 | 132 |  24 | 840 |  96 | 324 |\n",
       "\n"
      ],
      "text/plain": [
       "          EV_1 EV_2 EV_3 MIX_1.4_1 MIX_1.4_2 MIX_1.4_3 MIX_4.1_1 MIX_4.1_2\n",
       "5_8S_rRNA   0    3    0   21         0         0        10         0      \n",
       "7SK         0  126   27   34         2        32       188         5      \n",
       "A1BG        0   15   40   30       220        40        25        45      \n",
       "A1BG-AS1  243  405  414  558       774       594       522       819      \n",
       "A1CF        0   24   88   24        16        32        48        48      \n",
       "A2M       264  288    0   48       612        60        24       132      \n",
       "          MIX_4.1_3 RAB5_1 RAB5_2 RAB5_3\n",
       "5_8S_rRNA  19        21      4      7   \n",
       "7SK       284        77     81      3   \n",
       "A1BG       80        25     25     15   \n",
       "A1BG-AS1  756       540    450    612   \n",
       "A1CF      176         8     32     40   \n",
       "A2M        24       840     96    324   "
      ]
     },
     "metadata": {},
     "output_type": "display_data"
    }
   ],
   "source": [
    "raw <- counts(dds, normalized=FALSE) %>% as.data.frame()\n",
    "head(raw)"
   ]
  },
  {
   "cell_type": "markdown",
   "id": "74ac78bb-1690-4fd1-b505-d452c1a1f9e0",
   "metadata": {},
   "source": [
    "# Metadata"
   ]
  },
  {
   "cell_type": "code",
   "execution_count": 5,
   "id": "5d76df15-eb2f-4ada-bca3-49b2b20c8b5c",
   "metadata": {
    "vscode": {
     "languageId": "r"
    }
   },
   "outputs": [
    {
     "data": {
      "text/html": [
       "<table class=\"dataframe\">\n",
       "<caption>A data.frame: 12 × 2</caption>\n",
       "<thead>\n",
       "\t<tr><th></th><th scope=col>sampletype</th><th scope=col>samplename</th></tr>\n",
       "\t<tr><th></th><th scope=col>&lt;chr&gt;</th><th scope=col>&lt;dbl&gt;</th></tr>\n",
       "</thead>\n",
       "<tbody>\n",
       "\t<tr><th scope=row>EV_1</th><td>EV     </td><td>1</td></tr>\n",
       "\t<tr><th scope=row>EV_2</th><td>EV     </td><td>2</td></tr>\n",
       "\t<tr><th scope=row>EV_3</th><td>EV     </td><td>3</td></tr>\n",
       "\t<tr><th scope=row>MIX_1.4_1</th><td>MIX_1_4</td><td>1</td></tr>\n",
       "\t<tr><th scope=row>MIX_1.4_2</th><td>MIX_1_4</td><td>2</td></tr>\n",
       "\t<tr><th scope=row>MIX_1.4_3</th><td>MIX_1_4</td><td>3</td></tr>\n",
       "\t<tr><th scope=row>MIX_4.1_1</th><td>MIX_4_1</td><td>1</td></tr>\n",
       "\t<tr><th scope=row>MIX_4.1_2</th><td>MIX_4_1</td><td>2</td></tr>\n",
       "\t<tr><th scope=row>MIX_4.1_3</th><td>MIX_4_1</td><td>3</td></tr>\n",
       "\t<tr><th scope=row>RAB5_1</th><td>RAB5A  </td><td>1</td></tr>\n",
       "\t<tr><th scope=row>RAB5_2</th><td>RAB5A  </td><td>2</td></tr>\n",
       "\t<tr><th scope=row>RAB5_3</th><td>RAB5A  </td><td>3</td></tr>\n",
       "</tbody>\n",
       "</table>\n"
      ],
      "text/latex": [
       "A data.frame: 12 × 2\n",
       "\\begin{tabular}{r|ll}\n",
       "  & sampletype & samplename\\\\\n",
       "  & <chr> & <dbl>\\\\\n",
       "\\hline\n",
       "\tEV\\_1 & EV      & 1\\\\\n",
       "\tEV\\_2 & EV      & 2\\\\\n",
       "\tEV\\_3 & EV      & 3\\\\\n",
       "\tMIX\\_1.4\\_1 & MIX\\_1\\_4 & 1\\\\\n",
       "\tMIX\\_1.4\\_2 & MIX\\_1\\_4 & 2\\\\\n",
       "\tMIX\\_1.4\\_3 & MIX\\_1\\_4 & 3\\\\\n",
       "\tMIX\\_4.1\\_1 & MIX\\_4\\_1 & 1\\\\\n",
       "\tMIX\\_4.1\\_2 & MIX\\_4\\_1 & 2\\\\\n",
       "\tMIX\\_4.1\\_3 & MIX\\_4\\_1 & 3\\\\\n",
       "\tRAB5\\_1 & RAB5A   & 1\\\\\n",
       "\tRAB5\\_2 & RAB5A   & 2\\\\\n",
       "\tRAB5\\_3 & RAB5A   & 3\\\\\n",
       "\\end{tabular}\n"
      ],
      "text/markdown": [
       "\n",
       "A data.frame: 12 × 2\n",
       "\n",
       "| <!--/--> | sampletype &lt;chr&gt; | samplename &lt;dbl&gt; |\n",
       "|---|---|---|\n",
       "| EV_1 | EV      | 1 |\n",
       "| EV_2 | EV      | 2 |\n",
       "| EV_3 | EV      | 3 |\n",
       "| MIX_1.4_1 | MIX_1_4 | 1 |\n",
       "| MIX_1.4_2 | MIX_1_4 | 2 |\n",
       "| MIX_1.4_3 | MIX_1_4 | 3 |\n",
       "| MIX_4.1_1 | MIX_4_1 | 1 |\n",
       "| MIX_4.1_2 | MIX_4_1 | 2 |\n",
       "| MIX_4.1_3 | MIX_4_1 | 3 |\n",
       "| RAB5_1 | RAB5A   | 1 |\n",
       "| RAB5_2 | RAB5A   | 2 |\n",
       "| RAB5_3 | RAB5A   | 3 |\n",
       "\n"
      ],
      "text/plain": [
       "          sampletype samplename\n",
       "EV_1      EV         1         \n",
       "EV_2      EV         2         \n",
       "EV_3      EV         3         \n",
       "MIX_1.4_1 MIX_1_4    1         \n",
       "MIX_1.4_2 MIX_1_4    2         \n",
       "MIX_1.4_3 MIX_1_4    3         \n",
       "MIX_4.1_1 MIX_4_1    1         \n",
       "MIX_4.1_2 MIX_4_1    2         \n",
       "MIX_4.1_3 MIX_4_1    3         \n",
       "RAB5_1    RAB5A      1         \n",
       "RAB5_2    RAB5A      2         \n",
       "RAB5_3    RAB5A      3         "
      ]
     },
     "metadata": {},
     "output_type": "display_data"
    }
   ],
   "source": [
    "sampleinfo <- data.frame(sampletype = rep(c(\"EV\", \"MIX_1_4\", \"MIX_4_1\", \"RAB5A\"), 1, each = 3),\n",
    "                         samplename = rep(c(1, 2, 3), 4, each = 1),\n",
    "                         row.names = colnames(raw_anno_aggr))\n",
    "sampleinfo"
   ]
  },
  {
   "cell_type": "markdown",
   "id": "c614a2c6-eda8-4e72-9d89-514a643c3ab2",
   "metadata": {},
   "source": [
    "# Make DESeq2 Object"
   ]
  },
  {
   "cell_type": "code",
   "execution_count": 6,
   "id": "9d0a0234-434e-4cc7-97ef-24ec9cc6084b",
   "metadata": {
    "vscode": {
     "languageId": "r"
    }
   },
   "outputs": [
    {
     "name": "stderr",
     "output_type": "stream",
     "text": [
      "Warning message in DESeqDataSet(se, design = design, ignoreRank):\n",
      "“some variables in design formula are characters, converting to factors”\n"
     ]
    }
   ],
   "source": [
    "raw_anno_aggr <- raw_anno_aggr[rowSums(raw_anno_aggr)> 0,]\n",
    "\n",
    "dds <- DESeqDataSetFromMatrix(countData = raw_anno_aggr,\n",
    "                              colData = sampleinfo,\n",
    "                              design = ~ sampletype)"
   ]
  },
  {
   "cell_type": "markdown",
   "id": "8ff0331a-a843-4b59-bffc-0134db30b60c",
   "metadata": {},
   "source": [
    "removing rows of the DESeqDataSet that have no counts, or only a single count across all samples. "
   ]
  },
  {
   "cell_type": "code",
   "execution_count": 7,
   "id": "6233b354-3452-4c2a-bc3e-ca645a8ee226",
   "metadata": {
    "vscode": {
     "languageId": "r"
    }
   },
   "outputs": [],
   "source": [
    "dds <- dds[ rowSums(counts(dds)) > 1, ]"
   ]
  },
  {
   "cell_type": "markdown",
   "id": "95d098d7-6b96-4fee-bb32-e26c1871193d",
   "metadata": {},
   "source": [
    "# compute size factor and normalize raw readcounts\n",
    "now let's obtain the table of normalized raw data and write it down to disk.\n",
    "Please note that in DESeq2 the \"normalized\"data isn't actually stored anywhere: the only thing that is stored are the factors one can use to normalize the raw count data if required."
   ]
  },
  {
   "cell_type": "code",
   "execution_count": 8,
   "id": "5d6f00b3-27f0-4e2f-80d8-c46e05d15e5b",
   "metadata": {
    "vscode": {
     "languageId": "r"
    }
   },
   "outputs": [
    {
     "data": {
      "text/html": [
       "<style>\n",
       ".dl-inline {width: auto; margin:0; padding: 0}\n",
       ".dl-inline>dt, .dl-inline>dd {float: none; width: auto; display: inline-block}\n",
       ".dl-inline>dt::after {content: \":\\0020\"; padding-right: .5ex}\n",
       ".dl-inline>dt:not(:first-of-type) {padding-left: .5ex}\n",
       "</style><dl class=dl-inline><dt>EV_1</dt><dd>0.505457750647683</dd><dt>EV_2</dt><dd>0.946357417676375</dd><dt>EV_3</dt><dd>0.635479150771522</dd><dt>MIX_1.4_1</dt><dd>1.23901819103998</dd><dt>MIX_1.4_2</dt><dd>1.13565270562163</dd><dt>MIX_1.4_3</dt><dd>1.16702885234571</dd><dt>MIX_4.1_1</dt><dd>1.11959110781498</dd><dt>MIX_4.1_2</dt><dd>1.26843815933333</dd><dt>MIX_4.1_3</dt><dd>1.34098337133228</dd><dt>RAB5_1</dt><dd>1.08096170335403</dd><dt>RAB5_2</dt><dd>0.876049066073682</dd><dt>RAB5_3</dt><dd>1.19839693312259</dd></dl>\n"
      ],
      "text/latex": [
       "\\begin{description*}\n",
       "\\item[EV\\textbackslash{}\\_1] 0.505457750647683\n",
       "\\item[EV\\textbackslash{}\\_2] 0.946357417676375\n",
       "\\item[EV\\textbackslash{}\\_3] 0.635479150771522\n",
       "\\item[MIX\\textbackslash{}\\_1.4\\textbackslash{}\\_1] 1.23901819103998\n",
       "\\item[MIX\\textbackslash{}\\_1.4\\textbackslash{}\\_2] 1.13565270562163\n",
       "\\item[MIX\\textbackslash{}\\_1.4\\textbackslash{}\\_3] 1.16702885234571\n",
       "\\item[MIX\\textbackslash{}\\_4.1\\textbackslash{}\\_1] 1.11959110781498\n",
       "\\item[MIX\\textbackslash{}\\_4.1\\textbackslash{}\\_2] 1.26843815933333\n",
       "\\item[MIX\\textbackslash{}\\_4.1\\textbackslash{}\\_3] 1.34098337133228\n",
       "\\item[RAB5\\textbackslash{}\\_1] 1.08096170335403\n",
       "\\item[RAB5\\textbackslash{}\\_2] 0.876049066073682\n",
       "\\item[RAB5\\textbackslash{}\\_3] 1.19839693312259\n",
       "\\end{description*}\n"
      ],
      "text/markdown": [
       "EV_1\n",
       ":   0.505457750647683EV_2\n",
       ":   0.946357417676375EV_3\n",
       ":   0.635479150771522MIX_1.4_1\n",
       ":   1.23901819103998MIX_1.4_2\n",
       ":   1.13565270562163MIX_1.4_3\n",
       ":   1.16702885234571MIX_4.1_1\n",
       ":   1.11959110781498MIX_4.1_2\n",
       ":   1.26843815933333MIX_4.1_3\n",
       ":   1.34098337133228RAB5_1\n",
       ":   1.08096170335403RAB5_2\n",
       ":   0.876049066073682RAB5_3\n",
       ":   1.19839693312259\n",
       "\n"
      ],
      "text/plain": [
       "     EV_1      EV_2      EV_3 MIX_1.4_1 MIX_1.4_2 MIX_1.4_3 MIX_4.1_1 MIX_4.1_2 \n",
       "0.5054578 0.9463574 0.6354792 1.2390182 1.1356527 1.1670289 1.1195911 1.2684382 \n",
       "MIX_4.1_3    RAB5_1    RAB5_2    RAB5_3 \n",
       "1.3409834 1.0809617 0.8760491 1.1983969 "
      ]
     },
     "metadata": {},
     "output_type": "display_data"
    }
   ],
   "source": [
    "# now let's obtain the table of normalized raw data and write it down to disk\n",
    "# Please note that in DESeq2 the \"normalized\"data isn't actually stored anywhere: the only thing that is stored are the factors one can use to normalize the raw count data if required.\n",
    "# compute size factor and normalize raw readcounts\n",
    "dds <-  estimateSizeFactors(dds)\n",
    "readcounts_norm <- as.data.frame(counts(dds, normalized = TRUE))\n",
    "readcounts_norm$Gene_name <- rownames(readcounts_norm)\n",
    "sizeFactors(dds)"
   ]
  },
  {
   "cell_type": "markdown",
   "id": "79d30fe0-4e68-447b-a2ff-73c1078dfeb3",
   "metadata": {},
   "source": [
    "# Transformations"
   ]
  },
  {
   "cell_type": "code",
   "execution_count": 9,
   "id": "8561e666-07c4-4a64-97ed-3627cdadef56",
   "metadata": {
    "vscode": {
     "languageId": "r"
    }
   },
   "outputs": [],
   "source": [
    "# transformations\n",
    "vsd <- vst(dds, blind=F)\n",
    "rld <- rlog(dds, blind=T)"
   ]
  },
  {
   "cell_type": "markdown",
   "id": "18b07504-2321-4e58-b4a8-2c9ee0304d7d",
   "metadata": {},
   "source": [
    "# Sample to sample distance"
   ]
  },
  {
   "cell_type": "code",
   "execution_count": null,
   "id": "14c4fd2f-aab2-4b6d-bae8-a3a22715b87c",
   "metadata": {
    "vscode": {
     "languageId": "r"
    }
   },
   "outputs": [],
   "source": [
    "sampleDists <- dist(t(assay(vsd)))\n",
    "sampleDistMatrix <- as.matrix(sampleDists)\n",
    "rownames(sampleDistMatrix) <- rownames(sampleDistMatrix)\n",
    "colnames(sampleDistMatrix) <- rownames(sampleDistMatrix)"
   ]
  },
  {
   "cell_type": "code",
   "execution_count": null,
   "id": "130fcad4-94b8-48bc-aa21-17394a5916db",
   "metadata": {
    "vscode": {
     "languageId": "r"
    }
   },
   "outputs": [],
   "source": [
    "suppressMessages(library(stringr))\n",
    "\n",
    "metadata = data.frame(samples = rep(c(\"1\", \"2\", \"3\"), 4, each = 1),\n",
    "                      condition = rep(c(\"EV\", \"MIX_1_4\", \"MIX_4_1\", \"RAB5A\"), 1, each = 3),\n",
    "                      row.names = colnames(dds),\n",
    "                      stringsAsFactors = T)\n",
    "\n",
    "suppressMessages(library(RColorBrewer))\n",
    "\n",
    "annotation_column <- metadata[,1:(dim(metadata)[2])]\n",
    "mycolors_s <- polychrome(3); names(mycolors_s) = levels(annotation_column$samples)\n",
    "mycolors_c <- kelly(22)[3:6]; names(mycolors_c) = levels(annotation_column$condition)\n",
    "\n",
    "\n",
    "ann_colors = list(samples = mycolors_s, condition=mycolors_c)\n",
    "colors <- colorRampPalette(rev(brewer.pal(9, \"Blues\")))(255)"
   ]
  },
  {
   "cell_type": "code",
   "execution_count": null,
   "id": "16312456-5a61-4622-b6ee-ffc1652629de",
   "metadata": {
    "vscode": {
     "languageId": "r"
    }
   },
   "outputs": [],
   "source": [
    "sample_distace_plot <- pheatmap(sampleDistMatrix,\n",
    "                                clustering_distance_rows=sampleDists,\n",
    "                                clustering_distance_cols=sampleDists, border_color = \"white\",\n",
    "                                col=colors, cellwidth = 20, cellheight = 20, annotation_col = annotation_column,\n",
    "                                annotation_colors = ann_colors, filename = \"S_distance.png\", \n",
    "                                main = \"sample to sample distance\") "
   ]
  },
  {
   "cell_type": "markdown",
   "id": "66c17747-ef8d-4ea1-8b5f-ae10afc72100",
   "metadata": {},
   "source": [
    "# PCA"
   ]
  },
  {
   "cell_type": "code",
   "execution_count": null,
   "id": "2af95e60-3a0f-4f7f-b032-0d4fb014f795",
   "metadata": {
    "vscode": {
     "languageId": "r"
    }
   },
   "outputs": [],
   "source": [
    "pca <- pca(readcounts_norm[1:12], labels = rep(c(1, 2, 3), 4, each = 1),  \n",
    "           legendtitle = \"Conditions\", axistextsize = 18, \n",
    "           legendtextsize = 14, dotsize = 5,\n",
    "           textlabelsize = 4, colvec =  mycolors_c)"
   ]
  },
  {
   "cell_type": "code",
   "execution_count": null,
   "id": "ede96250-59f6-40e5-84ed-25b292421b51",
   "metadata": {
    "vscode": {
     "languageId": "r"
    }
   },
   "outputs": [],
   "source": [
    "ggplot(pca$data, aes(x=pca$data$PC1, y=pca$data$PC2, color=as.factor(annotation_column$condition), label = annotation_column$sample))+\n",
    "  geom_point(size = 7) +\n",
    "  guides(color = guide_legend(title = \"\")) +  \n",
    "  geom_text(data = pca$data, aes(label = annotation_column$sample, color=\"black\"), position = position_dodge(width=1),  size=7, hjust = 2)+\n",
    "  theme(plot.title = element_text(color=\"black\", size=26, face=\"bold.italic\"),\n",
    "        axis.text.x = element_text(angle = 90, face = \"bold\", color = \"black\", size=22, hjust =1), \n",
    "        axis.title.x = element_text(face = \"bold\", color = \"black\", size = 24),\n",
    "        axis.text.y = element_text(angle = 0, face = \"bold\", color = \"black\", size=22),\n",
    "        axis.title.y = element_text(face = \"bold\", color = \"black\", size = 24),\n",
    "        legend.text = element_text(face = \"bold\", color = \"black\", size = 15),\n",
    "        legend.position=\"top\",\n",
    "        panel.background = element_rect(fill = \"white\",colour = \"black\", size = 1, linetype = \"solid\")) +\n",
    "  xlab(paste(pca$labels$x)) + ylab(paste(pca$labels$y))+ \n",
    "  scale_color_manual(values=mycolors_c)+\n",
    "  ggtitle(\"\")\n",
    "ggsave(\"pca.png\", dpi = 330, scale = 0.8, width = 10, height = 9)\n",
    "dev.off()"
   ]
  },
  {
   "cell_type": "markdown",
   "id": "e83f89c2-162e-4a65-936f-8ef42afe044f",
   "metadata": {},
   "source": [
    "# t-SNE"
   ]
  },
  {
   "cell_type": "code",
   "execution_count": null,
   "id": "cefb6f63-81c1-4f8b-9d9f-f53550f94b02",
   "metadata": {
    "vscode": {
     "languageId": "r"
    }
   },
   "outputs": [],
   "source": [
    "set.seed(1)\n",
    "tsne_results <- Rtsne(t(readcounts_norm[1:12]), perplexity=3, check_duplicates = FALSE)\n",
    "embedding <- as.data.frame(tsne_results$Y)\n",
    "\n",
    "ggplot(embedding, aes(x=V1, y=V2, color=as.factor(annotation_column$condition), label = as.character(annotation_column$samples))) +\n",
    "  geom_point(size = 7) +\n",
    "  guides(color = guide_legend(title = \"\")) +  \n",
    "  geom_text(data = embedding, aes(label = annotation_column$sample, color=\"black\"), position = position_dodge(width=1),  size=7, hjust = 2)+\n",
    "  theme(plot.title = element_text(color=\"black\", size=26, face=\"bold.italic\"),\n",
    "        axis.text.x = element_text(angle = 90, face = \"bold\", color = \"black\", size=22, hjust =1), \n",
    "        axis.title.x = element_text(face = \"bold\", color = \"black\", size = 24),\n",
    "        axis.text.y = element_text(angle = 0, face = \"bold\", color = \"black\", size=22),\n",
    "        axis.title.y = element_text(face = \"bold\", color = \"black\", size = 24),\n",
    "        legend.text = element_text(face = \"bold\", color = \"black\", size = 15),\n",
    "        legend.position=\"top\",\n",
    "        panel.background = element_rect(fill = \"white\",colour = \"black\", size = 1, linetype = \"solid\")) +\n",
    "  xlab(\"t-SNE dimension 1\") + ylab(\"t-SNE dimension 2\")+\n",
    "  guides(fill=guide_legend(title=\"t-SNE\"))+\n",
    "  scale_color_manual(values=mycolors_c)\n",
    "\n",
    "ggsave(\"tsne.png\", dpi = 330, scale = 1, width = 10, height = 9)\n",
    "dev.off()"
   ]
  },
  {
   "cell_type": "markdown",
   "id": "1a928e1c-aba1-438a-a061-3b932e826d5d",
   "metadata": {},
   "source": [
    "# Counts distribution"
   ]
  },
  {
   "cell_type": "code",
   "execution_count": null,
   "id": "e46bc248-d395-4e94-838a-b80b1f3cfec2",
   "metadata": {
    "vscode": {
     "languageId": "r"
    }
   },
   "outputs": [],
   "source": [
    "box_colors <- rep(mycolors_c, time=1, each=3)\n",
    "epsilon <- 1\n",
    "png(\"Count.png\",\n",
    "    width     = 8,\n",
    "    height    = 4,\n",
    "    units     = \"in\",\n",
    "    res       = 1200)\n",
    "par(mar=c(5, 7 ,5, 5))\n",
    "boxplot(log2(readcounts_norm[1:12] + epsilon), col=box_colors, pch=\".\", \n",
    "        horizontal=TRUE, cex.axis=0.7,\n",
    "        las=1, ylab=\"\", xlab=\"log2(Counts)\")\n",
    "dev.off()"
   ]
  },
  {
   "cell_type": "markdown",
   "id": "1968052d-dede-4d9c-bb2b-8d9bd53bfab4",
   "metadata": {},
   "source": [
    "# Call comparisons"
   ]
  },
  {
   "cell_type": "code",
   "execution_count": 10,
   "id": "773dddd3-57b0-4504-b135-de90f523fa74",
   "metadata": {
    "vscode": {
     "languageId": "r"
    }
   },
   "outputs": [
    {
     "name": "stderr",
     "output_type": "stream",
     "text": [
      "using pre-existing size factors\n",
      "\n",
      "estimating dispersions\n",
      "\n",
      "gene-wise dispersion estimates\n",
      "\n",
      "mean-dispersion relationship\n",
      "\n",
      "final dispersion estimates\n",
      "\n",
      "fitting model and testing\n",
      "\n"
     ]
    }
   ],
   "source": [
    "to_write <- list(normalized_counts=readcounts_norm)\n",
    "\n",
    "dds <- DESeq(dds, parallel = F)\n",
    "## define contrasts (careful here!!) Control FIB\n",
    "comparisons <- list(c(\"MIX_1_4\", \"EV\"),\n",
    "                 c(\"MIX_4_1\", \"EV\"),\n",
    "                 c(\"RAB5A\", \"EV\"), \n",
    "                  c(\"MIX_1_4\", \"MIX_4_1\"))\n",
    "res <- list()\n",
    "\n",
    "for (i in 1:4) {\n",
    "  contrast=comparisons[[i]] # ratio numerator/denumerator is expressed always as c(\"numerator\", \"denumerator\")\n",
    "  phenoData<- colData(dds)\n",
    "  phenoData<-phenoData[phenoData$sampletype %in% contrast,]\n",
    "  contast_samples_ordered=rownames(phenoData[order(phenoData$sampletype),])\n",
    "  fcT=1\n",
    "  fdr=0.05\n",
    "  res[[i]] <- results(dds, contrast=c(\"sampletype\",contrast), alpha = fdr, pAdjustMethod=\"BH\", parallel = F)\n",
    "  names(res)[i] <- as.character(paste(comparisons[[i]][1], \"vs\", comparisons[[i]][2], sep = \"_\"))\n",
    "  \n",
    "}"
   ]
  },
  {
   "cell_type": "markdown",
   "id": "8eeafaa4-2f09-45d1-8d45-484dc4fb3b06",
   "metadata": {},
   "source": [
    "put summary of contrast in files"
   ]
  },
  {
   "cell_type": "code",
   "execution_count": 11,
   "id": "283ef92b-47ec-4a6c-8500-f87cd07bc80d",
   "metadata": {
    "vscode": {
     "languageId": "r"
    }
   },
   "outputs": [],
   "source": [
    "for (i in 1:4) {\n",
    "  sink(paste(\"res_Contrast_\", names(res)[i],\".txt\", sep = \"\"))\n",
    "  summary(res[[i]])\n",
    "  sink() \n",
    "}"
   ]
  },
  {
   "cell_type": "code",
   "execution_count": null,
   "id": "579f15cb-e1e8-4891-901a-2e0f8ebc4e96",
   "metadata": {
    "vscode": {
     "languageId": "r"
    }
   },
   "outputs": [],
   "source": [
    "DEGs <- list()\n",
    "\n",
    "for (i in names(res)) {\n",
    "  DEGs[[i]] <- res[[i]] %>%\n",
    "    as.data.frame() %>%\n",
    "    filter(padj < 0.05) %>%\n",
    "    tibble::rownames_to_column(\"Gene_name\") %>%\n",
    "    left_join(., readcounts_norm) %>%\n",
    "    arrange(log2FoldChange)\n",
    "}"
   ]
  },
  {
   "cell_type": "code",
   "execution_count": null,
   "id": "cd1cb88b-2f8a-4b75-be79-bd93598b2eb7",
   "metadata": {
    "vscode": {
     "languageId": "r"
    }
   },
   "outputs": [],
   "source": [
    "openxlsx::write.xlsx(c(to_write, DEGs), \"RNA_seq.xlsx\", overwrite = T)"
   ]
  },
  {
   "cell_type": "code",
   "execution_count": null,
   "id": "cc2b8b01-a5af-41c5-b607-3602f3968941",
   "metadata": {
    "vscode": {
     "languageId": "r"
    }
   },
   "outputs": [],
   "source": [
    "for (i in names(res)) {\n",
    "  EnhancedVolcano(as.data.frame(res[[i]]),\n",
    "                  max.overlaps=70,\n",
    "                  lab = rownames(res[[i]]),\n",
    "                  y = 'padj', boxedLabels = TRUE,\n",
    "                  drawConnectors = TRUE,\n",
    "                  x = 'log2FoldChange',title = i, pCutoff = 0.01, \n",
    "                  subtitle = \"\" , labSize = 4, FCcutoff = 0.5)\n",
    "  ggsave(paste(\"V_plot\", i, \".svg\", sep = \"\"), width = 17, height = 13)\n",
    "\n",
    "}"
   ]
  },
  {
   "cell_type": "code",
   "execution_count": null,
   "id": "627e68c0-f598-49f9-8d32-5f3da51dd038",
   "metadata": {
    "vscode": {
     "languageId": "r"
    }
   },
   "outputs": [],
   "source": [
    "crp <- colorRampPalette(c('blue', 'white','red'))\n",
    "colors = crp(255)\n",
    "order <- c('EV_1','EV_2','EV_3','MIX_4.1_1','MIX_4.1_2','MIX_4.1_3','MIX_1.4_1','MIX_1.4_2','MIX_1.4_3','RAB5_1','RAB5_2','RAB5_3')\n",
    "\n",
    "for (i in names(DEGs)) {\n",
    "    if(i != \"RAB5A_vs_EV\"){\n",
    "        cellheight = 0.5\n",
    "    }else{cellheight = 0.05}\n",
    "    DEGS_heatmap <- pheatmap(DEGs[[i]] %>% dplyr::select(c(1, 8:19)) %>%\n",
    "                             tibble::column_to_rownames(\"Gene_name\") %>%\n",
    "                             dplyr::select(order), \n",
    "                         annotation_col = annotation_column,\n",
    "                         annotation_colors = ann_colors,\n",
    "                         col=colors,border_color = \"white\",\n",
    "                         cellwidth = 20, cellheight = cellheight,\n",
    "                         scale = \"row\", cluster_rows=TRUE ,cluster_cols=T,\n",
    "                         main = i,filename = paste(\"DEGS_heatmap_cluster\",i, \".png\", sep = \"_\"),\n",
    "                         show_rownames = F, labels_row = row.names(DEGs[[i]]), legend = TRUE,\n",
    "                         angle_col = 45, show_colnames = FALSE)\n",
    "}\n"
   ]
  },
  {
   "cell_type": "code",
   "execution_count": null,
   "id": "173dbeea-9306-42e0-bcc0-778eb1238a47",
   "metadata": {
    "vscode": {
     "languageId": "r"
    }
   },
   "outputs": [],
   "source": [
    "my_sample_col <- data.frame(condition = c(\"EV\", \"MIX_1_4\", \"MIX_4_1\", \"RAB5A\"))\n",
    "row.names(my_sample_col) <- c(\"EV\", \"MIX_1_4\", \"MIX_4_1\", \"RAB5A\")\n",
    "my_sample_col$condition <- factor(my_sample_col$condition, levels = c(\"EV\", \"MIX_1_4\", \"MIX_4_1\", \"RAB5A\"))\n",
    "my_colour = list(condition = mycolors_c)\n",
    "order2=c(\"EV\", \"MIX_4_1\", \"MIX_1_4\", \"RAB5A\")\n",
    "\n",
    "DEGS_collaps <- list()\n",
    "\n",
    "for (i in names(DEGs)) {\n",
    "    DEGS_collaps[[i]] <- t(apply(DEGs[[i]] %>% dplyr::select(c(1, 8:19)) %>% tibble::column_to_rownames(\"Gene_name\"), 1, function(x) tapply(x, annotation_column$condition, mean)))\n",
    "    DEGS_collaps[[i]] <- DEGS_collaps[[i]] %>% as.data.frame() %>% dplyr::select(order2)\n",
    "    DEGS_heatmap <- pheatmap(DEGS_collaps[[i]], \n",
    "                         annotation_col = my_sample_col,\n",
    "                         annotation_colors = my_colour,\n",
    "                         kmeans_k = 6,\n",
    "                         col=colors, border_color = \"white\",\n",
    "                         cellwidth = 20, cellheight = 20,\n",
    "                         scale = \"row\", cluster_rows=TRUE ,cluster_cols=F,\n",
    "                         main = i, filename = paste(\"DEGS_heatmap_trends\",i, \".png\", sep = \"_\"),\n",
    "                         show_rownames = T, legend = TRUE,\n",
    "                         angle_col = 45, show_colnames = FALSE)\n",
    "}"
   ]
  },
  {
   "cell_type": "code",
   "execution_count": null,
   "id": "c1b113b7-ff8c-4a2e-b622-08c3ca72b77a",
   "metadata": {
    "vscode": {
     "languageId": "r"
    }
   },
   "outputs": [],
   "source": [
    "set.seed(1)\n",
    "\n",
    "my_sample_col <- data.frame(condition = c(\"EV\", \"MIX_1_4\", \"MIX_4_1\", \"RAB5A\"))\n",
    "row.names(my_sample_col) <- c(\"EV\", \"MIX_1_4\", \"MIX_4_1\", \"RAB5A\")\n",
    "my_sample_col$condition <- factor(my_sample_col$condition, levels = c(\"EV\", \"MIX_1_4\", \"MIX_4_1\", \"RAB5A\"))\n",
    "my_colour = list(condition = mycolors_c)\n",
    "order2=c(\"EV\", \"MIX_4_1\", \"MIX_1_4\", \"RAB5A\")\n",
    "\n",
    "combine_unique <- function(vector_list) {\n",
    "  unique_elements <- unique(unlist(vector_list))\n",
    "  return(unique_elements)\n",
    "}\n",
    "\n",
    "readcounts_norm_merged <- t(apply(readcounts_norm[1:12], 1, function(x) tapply(x, annotation_column$condition, mean))) %>%\n",
    "                            as.data.frame()\n",
    "                                  \n",
    "All_DEGs <- combine_unique(lapply(DEGs[c(1:3)], function(x) x %>% dplyr::select(\"Gene_name\") %>% pull()))\n",
    "\n",
    "readcounts_norm_merged <- t(apply(readcounts_norm[1:12], 1, function(x) tapply(x, annotation_column$condition, mean))) %>%\n",
    "                            as.data.frame() %>%\n",
    "                            dplyr::filter(rownames(.) %in% All_DEGs) %>%\n",
    "                            dplyr::select(order2)\n",
    "                                  \n",
    "ht <- pheatmap(readcounts_norm_merged, \n",
    "                         annotation_col = my_sample_col,\n",
    "                         annotation_colors = my_colour,\n",
    "                         kmeans_k = 8,\n",
    "                         col=colors, border_color = \"white\",\n",
    "                         cellwidth = 20, cellheight = 20,\n",
    "                         scale = \"row\", cluster_rows=TRUE ,cluster_cols=F,\n",
    "                         main = \"All_DEGs\", filename = \"All_DEGs_cluster.png\",\n",
    "                         show_rownames = T, legend = TRUE,\n",
    "                         angle_col = 45, show_colnames = FALSE)\n",
    "                            \n",
    "                               \n"
   ]
  },
  {
   "cell_type": "code",
   "execution_count": null,
   "id": "ce3202f8-1682-4dce-9218-4a0d30fbfc01",
   "metadata": {
    "vscode": {
     "languageId": "r"
    }
   },
   "outputs": [],
   "source": [
    "all_DEGs <- lapply(DEGs, function(x) x %>% dplyr::select(c(\"Gene_name\", \"log2FoldChange\", \"padj\")))\n",
    "names(all_DEGs[[\"MIX_1_4_vs_EV\"]])[2:3] <- paste(\"MIX_1_4_vs_EV\", names(all_DEGs[[\"MIX_1_4_vs_EV\"]])[2:3], sep = \"_\")\n",
    "names(all_DEGs[[\"MIX_4_1_vs_EV\"]])[2:3] <- paste(\"MIX_4_1_vs_EV\", names(all_DEGs[[\"MIX_4_1_vs_EV\"]])[2:3], sep = \"_\")\n",
    "names(all_DEGs[[\"RAB5A_vs_EV\"]])[2:3] <- paste(\"RAB5A_vs_EV\", names(all_DEGs[[\"RAB5A_vs_EV\"]])[2:3], sep = \"_\")\n",
    "all_DEGs <- full_join(all_DEGs[[\"MIX_1_4_vs_EV\"]], all_DEGs[[\"MIX_4_1_vs_EV\"]]) %>% full_join(., all_DEGs[[\"RAB5A_vs_EV\"]])"
   ]
  },
  {
   "cell_type": "code",
   "execution_count": null,
   "id": "bcb0fb72-6714-4c8d-b52b-733b55d38250",
   "metadata": {
    "vscode": {
     "languageId": "r"
    }
   },
   "outputs": [],
   "source": [
    "all_DEGs_cluster <- list()\n",
    "\n",
    "gene_to_cluster <- ht$kmeans$cluster %>% as.data.frame() %>% rename(\".\"=\"cluster\")\n",
    "\n",
    "for (i in unique(ht$kmeans$cluster)) {\n",
    "  cluster_genes <- filter(gene_to_cluster, cluster == i)\n",
    "  gene_names <- rownames(cluster_genes) # Extracting the gene names\n",
    "  all_DEGs_cluster[[i]] <- filter(all_DEGs, Gene_name %in% gene_names)\n",
    "}\n",
    "\n",
    "write.xlsx(all_DEGs_cluster, \"all_DEGs_cluster.xlsx\" , overwrite = T)"
   ]
  },
  {
   "cell_type": "code",
   "execution_count": null,
   "id": "0bd13d61-256e-4680-9d6f-aff7dde01805",
   "metadata": {
    "vscode": {
     "languageId": "r"
    }
   },
   "outputs": [],
   "source": [
    "names(all_DEGs_cluster) <- paste(\"Cluster\", 1:length(all_DEGs_cluster), sep = \"_\")\n",
    "names(all_DEGs_cluster)"
   ]
  },
  {
   "cell_type": "code",
   "execution_count": null,
   "id": "0aa69b28-d8e2-4446-a810-9f909a7cf5a3",
   "metadata": {
    "vscode": {
     "languageId": "r"
    }
   },
   "outputs": [],
   "source": [
    "gene_to_cluster %>% dplyr::filter(rownames(.) == \"OASL\")"
   ]
  },
  {
   "cell_type": "code",
   "execution_count": null,
   "id": "e631b756-f880-418b-9dd2-164de239b257",
   "metadata": {
    "vscode": {
     "languageId": "r"
    }
   },
   "outputs": [],
   "source": [
    "GO_cluster <- list()\n",
    "\n",
    "for (i in names(all_DEGs_cluster)) {\n",
    "    \n",
    "\n",
    "  gostres <- gost(query = all_DEGs_cluster[[i]] %>% dplyr::select(\"Gene_name\") %>% pull(.),\n",
    "                        organism = \"hsapiens\", \n",
    "                        evcodes = TRUE, \n",
    "                        significant = TRUE, \n",
    "                        correction_method = \"fdr\",\n",
    "                        user_threshold = 0.05, sources = \"GO:BP\") %>%\n",
    "  .[[\"result\"]] %>%\n",
    "  dplyr::select(c(3,4,6, 9,11, 16))%>%\n",
    "  mutate(\"Cluster\"= i, \"Perc_of_enrichment\"=intersection_size / term_size *100)\n",
    "\n",
    "\n",
    "  GO_cluster[[i]] <- gostres\n",
    "    \n",
    "}\n",
    "\n"
   ]
  },
  {
   "cell_type": "code",
   "execution_count": null,
   "id": "401b7a39-b5d1-433a-8aa4-e5cd6fb8bb39",
   "metadata": {
    "vscode": {
     "languageId": "r"
    }
   },
   "outputs": [],
   "source": [
    "GO_cluster <- lapply(GO_cluster, function(x) data.frame(x) %>% mutate(Perc_if_enrichment2 = intersection_size / nrow(x) *100))"
   ]
  },
  {
   "cell_type": "code",
   "execution_count": null,
   "id": "23b4d3ea-6823-4102-8c6d-78d6abad786f",
   "metadata": {
    "vscode": {
     "languageId": "r"
    }
   },
   "outputs": [],
   "source": [
    "GO_all <- lapply(GO_cluster, function(x) x %>% arrange(-Perc_of_enrichment) %>% head(5))\n",
    "#GO_all <- lapply(GO_cluster, function(x) x %>%  head(5))\n",
    "GO_all <- bind_rows(GO_all)\n",
    "\n",
    "#GO_all <- rbind(GO_UP$MIX_1_4_vs_EV %>% head(20), GO_UP$MIX_4_1_vs_EV %>% head(20))\n",
    "#GO_all <- rbind(GO_all, GO_UP$RAB5A_vs_EV %>% head(20))\n",
    "#GO_all <- rbind(GO_all, GO_UP$MIX_1_4_vs_MIX_4_1 %>% head(20))\n",
    "\n",
    "ggplot(GO_all, aes(x=as.character(Cluster), y=term_name, size=Perc_of_enrichment, color=p_value))+       \n",
    "  geom_point()+\n",
    "  scale_y_discrete(limits = unique(GO_all$term_name),labels = function(x) str_wrap(unique(GO_all$term_name)))+\n",
    "  #scale_y_discrete(limits=unique(GO_plot$term_name))+\n",
    "  #scale_size(range = c(2, 12))+\n",
    "  scale_color_gradient(low = \"Red\", high = \"grey70\") +\n",
    "  theme(plot.title = element_text(color=\"black\", size=10, face=\"bold.italic\"),\n",
    "        axis.text.x = element_text(angle = 45, face = \"bold\", color = \"black\", size=10, hjust =1), \n",
    "        axis.title.x = element_text(face = \"bold\", color = \"black\", size = 0),\n",
    "        axis.text.y = element_text(angle = 0, face = \"bold\", color = \"black\", size=8),\n",
    "        axis.title.y = element_text(face = \"bold\", color = \"black\", size = 0),\n",
    "        legend.text = element_text(face = \"bold\", color = \"black\", size = 10),\n",
    "        legend.position=\"left\",\n",
    "        panel.background = element_rect(fill = \"white\",colour = \"white\", size = 1, linetype = \"solid\"))+\n",
    "  ggtitle(\"BP with Gprofiler2\")\n",
    "ggsave(\"GO_Comparisons2.png\", dpi = 330, width =25, units = \"cm\", height = 20)\n",
    "dev.off()"
   ]
  },
  {
   "cell_type": "code",
   "execution_count": null,
   "id": "4684babb-71ff-4a74-9294-7b1d81ee67c8",
   "metadata": {
    "vscode": {
     "languageId": "r"
    }
   },
   "outputs": [],
   "source": [
    "write.xlsx(GO_cluster, \"GO_cluster.xlsx\", overwrite = T)"
   ]
  },
  {
   "cell_type": "code",
   "execution_count": null,
   "id": "e46cf8d2-15e9-49e4-838f-9a52a8074f53",
   "metadata": {
    "vscode": {
     "languageId": "r"
    }
   },
   "outputs": [],
   "source": [
    "GO_UP <- list()\n",
    "GO_DOWN <- list()\n",
    "\n",
    "for (i in names(res)[1:4]) {\n",
    "    \n",
    "  DEGs_UP <- DEGs[[i]] %>%\n",
    "    filter(log2FoldChange > 0) %>%\n",
    "    dplyr::select(\"Gene_name\") %>%\n",
    "    pull() %>%\n",
    "    unique() %>%\n",
    "    na.omit()\n",
    "    \n",
    " DEGs_DOWN <- DEGs[[i]] %>%\n",
    "    filter(log2FoldChange < 0) %>%\n",
    "    dplyr::select(\"Gene_name\") %>%\n",
    "    pull() %>%\n",
    "    unique() %>%\n",
    "    na.omit()\n",
    "    \n",
    "gostres_UP <- gost(query = DEGs_UP,\n",
    "                        organism = \"hsapiens\", \n",
    "                        evcodes = TRUE, \n",
    "                        significant = TRUE, \n",
    "                        correction_method = \"fdr\",\n",
    "                        user_threshold = 0.05, sources = \"GO:BP\") %>%\n",
    "  .[[\"result\"]] %>%\n",
    "  dplyr::select(c(3,4,6, 9,11, 16))%>%\n",
    "  mutate(\"Comparison\"= paste(\"UP\", i, sep = \"_\"), \"Perc_of_enrichment\"=intersection_size / term_size *100)\n",
    "\n",
    "gostres_DOWN <- gost(query = DEGs_DOWN,\n",
    "                        organism = \"hsapiens\", \n",
    "                        evcodes = TRUE, \n",
    "                        significant = TRUE, \n",
    "                        correction_method = \"fdr\",\n",
    "                        user_threshold = 0.05, sources = \"GO:BP\") %>%\n",
    "  .[[\"result\"]] %>%\n",
    "  dplyr::select(c(3,4,6, 9,11, 16))%>%\n",
    "  mutate(\"Comparison\"= paste(\"UP\", i, sep = \"_\"), \"Perc_of_enrichment\"=intersection_size / term_size *100)\n",
    "\n",
    "GO_UP[[i]] <- gostres_UP\n",
    "GO_DOWN[[i]] <- gostres_DOWN\n",
    "    \n",
    "}"
   ]
  },
  {
   "cell_type": "code",
   "execution_count": null,
   "id": "e1f3a29e-192f-4438-9e29-669c5957fb43",
   "metadata": {
    "vscode": {
     "languageId": "r"
    }
   },
   "outputs": [],
   "source": [
    "GO_DOWN <- lapply(GO_DOWN, function(x) data.frame(x) %>% mutate(Perc_if_enrichment2 = intersection_size / nrow(x) *100))\n",
    "GO_UP <- lapply(GO_UP, function(x) data.frame(x) %>% mutate(Perc_if_enrichment2 = intersection_size / nrow(x) *100))"
   ]
  },
  {
   "cell_type": "code",
   "execution_count": null,
   "id": "8d070090-daf6-4998-a664-06e075598dc9",
   "metadata": {
    "vscode": {
     "languageId": "r"
    }
   },
   "outputs": [],
   "source": [
    "write.xlsx(GO_DOWN, \"GO_DOWN.xlsx\", overwrite = T)\n",
    "write.xlsx(GO_UP, \"GO_UP.xlsx\", overwrite = T)"
   ]
  },
  {
   "cell_type": "code",
   "execution_count": null,
   "id": "2dc92c48-8152-44ea-aec0-37b6fffbe03b",
   "metadata": {
    "vscode": {
     "languageId": "r"
    }
   },
   "outputs": [],
   "source": [
    "GO_all <- rbind(GO_UP$MIX_1_4_vs_EV %>% arrange(-Perc_of_enrichment) %>% head(20), GO_UP$MIX_4_1_vs_EV %>% arrange(-Perc_of_enrichment) %>% head(20))\n",
    "GO_all <- rbind(GO_UP$MIX_1_4_vs_EV, GO_UP$MIX_4_1_vs_EV)\n",
    "GO_all <- rbind(GO_all, GO_UP$RAB5A_vs_EV) %>% dplyr::filter(term_id %in% read.table(\"GO_to_plot_3.txt\", header = F)[,1])\n",
    "\n",
    "#GO_all <- rbind(GO_all, GO_UP$MIX_1_4_vs_MIX_4_1 %>% arrange(-Perc_of_enrichment) %>% head(20))\n",
    "\n",
    "#GO_all <- rbind(GO_UP$MIX_1_4_vs_EV %>% head(20), GO_UP$MIX_4_1_vs_EV %>% head(20))\n",
    "#GO_all <- rbind(GO_all, GO_UP$RAB5A_vs_EV %>% head(20))\n",
    "#GO_all <- rbind(GO_all, GO_UP$MIX_1_4_vs_MIX_4_1 %>% head(20))\n",
    "\n",
    "ggplot(GO_all, aes(x=Comparison, y=term_name, size=Perc_of_enrichment, color=p_value))+\n",
    "  geom_point()+\n",
    "  scale_y_discrete(limits = unique(GO_all$term_name),labels = function(x) str_wrap(unique(GO_all$term_name)))+\n",
    "  #scale_y_discrete(limits=unique(GO_plot$term_name))+\n",
    "  #scale_size(range = c(2, 12))+\n",
    "  scale_color_gradient(low = \"Red\", high = \"grey70\") +\n",
    "  theme(plot.title = element_text(color=\"black\", size=10, face=\"bold.italic\"),\n",
    "        axis.text.x = element_text(angle = 45, face = \"bold\", color = \"black\", size=10, hjust =1), \n",
    "        axis.title.x = element_text(face = \"bold\", color = \"black\", size = 0),\n",
    "        axis.text.y = element_text(angle = 0, face = \"bold\", color = \"black\", size=8),\n",
    "        axis.title.y = element_text(face = \"bold\", color = \"black\", size = 0),\n",
    "        legend.text = element_text(face = \"bold\", color = \"black\", size = 10),\n",
    "        legend.position=\"left\",\n",
    "        panel.background = element_rect(fill = \"white\",colour = \"white\", size = 1, linetype = \"solid\"))+\n",
    "  ggtitle(\"BP with Gprofiler2\")\n",
    "ggsave(\"GO_Comparisons5.png\", dpi = 330, width =16, units = \"cm\", height = 15)\n",
    "dev.off()\n"
   ]
  },
  {
   "cell_type": "code",
   "execution_count": 12,
   "id": "49cc13b1-cb1a-4bea-9db1-9c22b86659dc",
   "metadata": {
    "vscode": {
     "languageId": "r"
    }
   },
   "outputs": [],
   "source": [
    "library(fgsea)"
   ]
  },
  {
   "cell_type": "code",
   "execution_count": 13,
   "id": "6ae0250d-6391-4ffd-a6a3-43d18577abbc",
   "metadata": {
    "vscode": {
     "languageId": "r"
    }
   },
   "outputs": [],
   "source": [
    "#HelpersMG::wget(\"https://data.broadinstitute.org/gsea-msigdb/msigdb/release/7.5/h.all.v7.5.symbols.gmt\")\n",
    "pathways.hallmark <- gmtPathways(\"./h.all.v7.5.symbols.gmt\")"
   ]
  },
  {
   "cell_type": "code",
   "execution_count": 14,
   "id": "7cb1de1a-88b2-46dd-9b87-910073e60c90",
   "metadata": {
    "vscode": {
     "languageId": "r"
    }
   },
   "outputs": [],
   "source": [
    "resC2 <- list()\n",
    "\n",
    "for (i in names(res)) {\n",
    "  resC2[[i]] <- res[[i]] %>%\n",
    "    as.data.frame() %>%\n",
    "    tibble::rownames_to_column(\"Gene_name\") %>%\n",
    "    na.omit() %>%\n",
    "    distinct() %>%\n",
    "    dplyr::select(c(\"Gene_name\", \"stat\")) %>%\n",
    "    group_by(Gene_name) %>%\n",
    "    summarize(stat=mean(stat))\n",
    "}\n"
   ]
  },
  {
   "cell_type": "code",
   "execution_count": 15,
   "id": "988babeb-12e7-40da-9f19-e4052bdb637e",
   "metadata": {
    "vscode": {
     "languageId": "r"
    }
   },
   "outputs": [
    {
     "data": {
      "text/html": [
       "<dl>\n",
       "\t<dt>$HALLMARK_TNFA_SIGNALING_VIA_NFKB</dt>\n",
       "\t\t<dd><style>\n",
       ".list-inline {list-style: none; margin:0; padding: 0}\n",
       ".list-inline>li {display: inline-block}\n",
       ".list-inline>li:not(:last-child)::after {content: \"\\00b7\"; padding: 0 .5ex}\n",
       "</style>\n",
       "<ol class=list-inline><li>'JUNB'</li><li>'CXCL2'</li><li>'ATF3'</li><li>'NFKBIA'</li><li>'TNFAIP3'</li><li>'PTGS2'</li></ol>\n",
       "</dd>\n",
       "\t<dt>$HALLMARK_HYPOXIA</dt>\n",
       "\t\t<dd><style>\n",
       ".list-inline {list-style: none; margin:0; padding: 0}\n",
       ".list-inline>li {display: inline-block}\n",
       ".list-inline>li:not(:last-child)::after {content: \"\\00b7\"; padding: 0 .5ex}\n",
       "</style>\n",
       "<ol class=list-inline><li>'PGK1'</li><li>'PDK1'</li><li>'GBE1'</li><li>'PFKL'</li><li>'ALDOA'</li><li>'ENO2'</li></ol>\n",
       "</dd>\n",
       "\t<dt>$HALLMARK_CHOLESTEROL_HOMEOSTASIS</dt>\n",
       "\t\t<dd><style>\n",
       ".list-inline {list-style: none; margin:0; padding: 0}\n",
       ".list-inline>li {display: inline-block}\n",
       ".list-inline>li:not(:last-child)::after {content: \"\\00b7\"; padding: 0 .5ex}\n",
       "</style>\n",
       "<ol class=list-inline><li>'FDPS'</li><li>'CYP51A1'</li><li>'IDI1'</li><li>'FDFT1'</li><li>'DHCR7'</li><li>'SQLE'</li></ol>\n",
       "</dd>\n",
       "\t<dt>$HALLMARK_MITOTIC_SPINDLE</dt>\n",
       "\t\t<dd><style>\n",
       ".list-inline {list-style: none; margin:0; padding: 0}\n",
       ".list-inline>li {display: inline-block}\n",
       ".list-inline>li:not(:last-child)::after {content: \"\\00b7\"; padding: 0 .5ex}\n",
       "</style>\n",
       "<ol class=list-inline><li>'ARHGEF2'</li><li>'CLASP1'</li><li>'KIF11'</li><li>'KIF23'</li><li>'ALS2'</li><li>'ARF6'</li></ol>\n",
       "</dd>\n",
       "\t<dt>$HALLMARK_WNT_BETA_CATENIN_SIGNALING</dt>\n",
       "\t\t<dd><style>\n",
       ".list-inline {list-style: none; margin:0; padding: 0}\n",
       ".list-inline>li {display: inline-block}\n",
       ".list-inline>li:not(:last-child)::after {content: \"\\00b7\"; padding: 0 .5ex}\n",
       "</style>\n",
       "<ol class=list-inline><li>'MYC'</li><li>'CTNNB1'</li><li>'JAG2'</li><li>'NOTCH1'</li><li>'DLL1'</li><li>'AXIN2'</li></ol>\n",
       "</dd>\n",
       "\t<dt>$HALLMARK_TGF_BETA_SIGNALING</dt>\n",
       "\t\t<dd><style>\n",
       ".list-inline {list-style: none; margin:0; padding: 0}\n",
       ".list-inline>li {display: inline-block}\n",
       ".list-inline>li:not(:last-child)::after {content: \"\\00b7\"; padding: 0 .5ex}\n",
       "</style>\n",
       "<ol class=list-inline><li>'TGFBR1'</li><li>'SMAD7'</li><li>'TGFB1'</li><li>'SMURF2'</li><li>'SMURF1'</li><li>'BMPR2'</li></ol>\n",
       "</dd>\n",
       "</dl>\n"
      ],
      "text/latex": [
       "\\begin{description}\n",
       "\\item[\\$HALLMARK\\_TNFA\\_SIGNALING\\_VIA\\_NFKB] \\begin{enumerate*}\n",
       "\\item 'JUNB'\n",
       "\\item 'CXCL2'\n",
       "\\item 'ATF3'\n",
       "\\item 'NFKBIA'\n",
       "\\item 'TNFAIP3'\n",
       "\\item 'PTGS2'\n",
       "\\end{enumerate*}\n",
       "\n",
       "\\item[\\$HALLMARK\\_HYPOXIA] \\begin{enumerate*}\n",
       "\\item 'PGK1'\n",
       "\\item 'PDK1'\n",
       "\\item 'GBE1'\n",
       "\\item 'PFKL'\n",
       "\\item 'ALDOA'\n",
       "\\item 'ENO2'\n",
       "\\end{enumerate*}\n",
       "\n",
       "\\item[\\$HALLMARK\\_CHOLESTEROL\\_HOMEOSTASIS] \\begin{enumerate*}\n",
       "\\item 'FDPS'\n",
       "\\item 'CYP51A1'\n",
       "\\item 'IDI1'\n",
       "\\item 'FDFT1'\n",
       "\\item 'DHCR7'\n",
       "\\item 'SQLE'\n",
       "\\end{enumerate*}\n",
       "\n",
       "\\item[\\$HALLMARK\\_MITOTIC\\_SPINDLE] \\begin{enumerate*}\n",
       "\\item 'ARHGEF2'\n",
       "\\item 'CLASP1'\n",
       "\\item 'KIF11'\n",
       "\\item 'KIF23'\n",
       "\\item 'ALS2'\n",
       "\\item 'ARF6'\n",
       "\\end{enumerate*}\n",
       "\n",
       "\\item[\\$HALLMARK\\_WNT\\_BETA\\_CATENIN\\_SIGNALING] \\begin{enumerate*}\n",
       "\\item 'MYC'\n",
       "\\item 'CTNNB1'\n",
       "\\item 'JAG2'\n",
       "\\item 'NOTCH1'\n",
       "\\item 'DLL1'\n",
       "\\item 'AXIN2'\n",
       "\\end{enumerate*}\n",
       "\n",
       "\\item[\\$HALLMARK\\_TGF\\_BETA\\_SIGNALING] \\begin{enumerate*}\n",
       "\\item 'TGFBR1'\n",
       "\\item 'SMAD7'\n",
       "\\item 'TGFB1'\n",
       "\\item 'SMURF2'\n",
       "\\item 'SMURF1'\n",
       "\\item 'BMPR2'\n",
       "\\end{enumerate*}\n",
       "\n",
       "\\end{description}\n"
      ],
      "text/markdown": [
       "$HALLMARK_TNFA_SIGNALING_VIA_NFKB\n",
       ":   1. 'JUNB'\n",
       "2. 'CXCL2'\n",
       "3. 'ATF3'\n",
       "4. 'NFKBIA'\n",
       "5. 'TNFAIP3'\n",
       "6. 'PTGS2'\n",
       "\n",
       "\n",
       "\n",
       "$HALLMARK_HYPOXIA\n",
       ":   1. 'PGK1'\n",
       "2. 'PDK1'\n",
       "3. 'GBE1'\n",
       "4. 'PFKL'\n",
       "5. 'ALDOA'\n",
       "6. 'ENO2'\n",
       "\n",
       "\n",
       "\n",
       "$HALLMARK_CHOLESTEROL_HOMEOSTASIS\n",
       ":   1. 'FDPS'\n",
       "2. 'CYP51A1'\n",
       "3. 'IDI1'\n",
       "4. 'FDFT1'\n",
       "5. 'DHCR7'\n",
       "6. 'SQLE'\n",
       "\n",
       "\n",
       "\n",
       "$HALLMARK_MITOTIC_SPINDLE\n",
       ":   1. 'ARHGEF2'\n",
       "2. 'CLASP1'\n",
       "3. 'KIF11'\n",
       "4. 'KIF23'\n",
       "5. 'ALS2'\n",
       "6. 'ARF6'\n",
       "\n",
       "\n",
       "\n",
       "$HALLMARK_WNT_BETA_CATENIN_SIGNALING\n",
       ":   1. 'MYC'\n",
       "2. 'CTNNB1'\n",
       "3. 'JAG2'\n",
       "4. 'NOTCH1'\n",
       "5. 'DLL1'\n",
       "6. 'AXIN2'\n",
       "\n",
       "\n",
       "\n",
       "$HALLMARK_TGF_BETA_SIGNALING\n",
       ":   1. 'TGFBR1'\n",
       "2. 'SMAD7'\n",
       "3. 'TGFB1'\n",
       "4. 'SMURF2'\n",
       "5. 'SMURF1'\n",
       "6. 'BMPR2'\n",
       "\n",
       "\n",
       "\n",
       "\n",
       "\n"
      ],
      "text/plain": [
       "$HALLMARK_TNFA_SIGNALING_VIA_NFKB\n",
       "[1] \"JUNB\"    \"CXCL2\"   \"ATF3\"    \"NFKBIA\"  \"TNFAIP3\" \"PTGS2\"  \n",
       "\n",
       "$HALLMARK_HYPOXIA\n",
       "[1] \"PGK1\"  \"PDK1\"  \"GBE1\"  \"PFKL\"  \"ALDOA\" \"ENO2\" \n",
       "\n",
       "$HALLMARK_CHOLESTEROL_HOMEOSTASIS\n",
       "[1] \"FDPS\"    \"CYP51A1\" \"IDI1\"    \"FDFT1\"   \"DHCR7\"   \"SQLE\"   \n",
       "\n",
       "$HALLMARK_MITOTIC_SPINDLE\n",
       "[1] \"ARHGEF2\" \"CLASP1\"  \"KIF11\"   \"KIF23\"   \"ALS2\"    \"ARF6\"   \n",
       "\n",
       "$HALLMARK_WNT_BETA_CATENIN_SIGNALING\n",
       "[1] \"MYC\"    \"CTNNB1\" \"JAG2\"   \"NOTCH1\" \"DLL1\"   \"AXIN2\" \n",
       "\n",
       "$HALLMARK_TGF_BETA_SIGNALING\n",
       "[1] \"TGFBR1\" \"SMAD7\"  \"TGFB1\"  \"SMURF2\" \"SMURF1\" \"BMPR2\" \n"
      ]
     },
     "metadata": {},
     "output_type": "display_data"
    }
   ],
   "source": [
    "ranksC <- lapply(resC2,  function(x) tibble::deframe(x))\n",
    "\n",
    "pathways.hallmark %>% \n",
    "  head() %>% \n",
    "  lapply(head)\n",
    "\n",
    "fgsearesC <- lapply(ranksC, function(x) fgsea(pathways=pathways.hallmark, stats=x))"
   ]
  },
  {
   "cell_type": "code",
   "execution_count": 26,
   "id": "2d6cfec7-391d-47a3-9586-7df341d50d0f",
   "metadata": {
    "vscode": {
     "languageId": "r"
    }
   },
   "outputs": [
    {
     "data": {
      "text/html": [
       "<table class=\"dataframe\">\n",
       "<caption>A data.table: 50 × 8</caption>\n",
       "<thead>\n",
       "\t<tr><th scope=col>pathway</th><th scope=col>pval</th><th scope=col>padj</th><th scope=col>log2err</th><th scope=col>ES</th><th scope=col>NES</th><th scope=col>size</th><th scope=col>leadingEdge</th></tr>\n",
       "\t<tr><th scope=col>&lt;chr&gt;</th><th scope=col>&lt;dbl&gt;</th><th scope=col>&lt;dbl&gt;</th><th scope=col>&lt;dbl&gt;</th><th scope=col>&lt;dbl&gt;</th><th scope=col>&lt;dbl&gt;</th><th scope=col>&lt;int&gt;</th><th scope=col>&lt;list&gt;</th></tr>\n",
       "</thead>\n",
       "<tbody>\n",
       "\t<tr><td>HALLMARK_ADIPOGENESIS                     </td><td>1.182432e-01</td><td>1.515939e-01</td><td>0.16693385</td><td> 0.3240932</td><td> 1.1856595</td><td>193</td><td>AGPAT3, ....</td></tr>\n",
       "\t<tr><td>HALLMARK_ALLOGRAFT_REJECTION              </td><td>9.272556e-03</td><td>1.783184e-02</td><td>0.38073040</td><td> 0.3918713</td><td> 1.4053023</td><td>169</td><td>CSF1, HL....</td></tr>\n",
       "\t<tr><td>HALLMARK_ANDROGEN_RESPONSE                </td><td>6.404817e-03</td><td>1.392352e-02</td><td>0.40701792</td><td> 0.4542830</td><td> 1.5183907</td><td>100</td><td>B2M, PME....</td></tr>\n",
       "\t<tr><td>HALLMARK_ANGIOGENESIS                     </td><td>3.067729e-01</td><td>3.486056e-01</td><td>0.10714024</td><td> 0.3984348</td><td> 1.1061602</td><td> 33</td><td>APP, TIM....</td></tr>\n",
       "\t<tr><td>HALLMARK_APICAL_JUNCTION                  </td><td>5.251473e-04</td><td>1.544551e-03</td><td>0.47727082</td><td> 0.4345799</td><td> 1.5855565</td><td>189</td><td>FYB1, IT....</td></tr>\n",
       "\t<tr><td>HALLMARK_APICAL_SURFACE                   </td><td>1.574067e-02</td><td>2.914939e-02</td><td>0.35248786</td><td> 0.5306275</td><td> 1.5274805</td><td> 41</td><td>PLAUR, A....</td></tr>\n",
       "\t<tr><td>HALLMARK_APOPTOSIS                        </td><td>1.079674e-04</td><td>4.152594e-04</td><td>0.53843410</td><td> 0.4830703</td><td> 1.7137845</td><td>153</td><td>PLAT, CD....</td></tr>\n",
       "\t<tr><td>HALLMARK_BILE_ACID_METABOLISM             </td><td>5.655172e-01</td><td>5.890805e-01</td><td>0.07998588</td><td>-0.2773378</td><td>-0.9487685</td><td> 94</td><td>BCAR3, T....</td></tr>\n",
       "\t<tr><td>HALLMARK_CHOLESTEROL_HOMEOSTASIS          </td><td>8.924427e-03</td><td>1.783184e-02</td><td>0.38073040</td><td> 0.4803528</td><td> 1.5340234</td><td> 74</td><td>CLU, PLA....</td></tr>\n",
       "\t<tr><td>HALLMARK_COAGULATION                      </td><td>3.069858e-05</td><td>1.395390e-04</td><td>0.55733224</td><td> 0.5352461</td><td> 1.8218371</td><td>116</td><td>CTSB, PL....</td></tr>\n",
       "\t<tr><td>HALLMARK_COMPLEMENT                       </td><td>1.512143e-09</td><td>1.260120e-08</td><td>0.78818681</td><td> 0.5778989</td><td> 2.0918005</td><td>179</td><td>F5, CD55....</td></tr>\n",
       "\t<tr><td>HALLMARK_DNA_REPAIR                       </td><td>2.981651e-01</td><td>3.467036e-01</td><td>0.11828753</td><td>-0.2872294</td><td>-1.0525510</td><td>150</td><td>PRIM1, I....</td></tr>\n",
       "\t<tr><td>HALLMARK_E2F_TARGETS                      </td><td>1.310649e-33</td><td>6.553243e-32</td><td>1.50926284</td><td>-0.7481033</td><td>-2.8314041</td><td>199</td><td>STMN1, T....</td></tr>\n",
       "\t<tr><td>HALLMARK_EPITHELIAL_MESENCHYMAL_TRANSITION</td><td>8.314576e-05</td><td>3.464407e-04</td><td>0.53843410</td><td> 0.4524324</td><td> 1.6551771</td><td>191</td><td>ECM1, AR....</td></tr>\n",
       "\t<tr><td>HALLMARK_ESTROGEN_RESPONSE_EARLY          </td><td>1.014851e-01</td><td>1.335331e-01</td><td>0.22205605</td><td>-0.3121188</td><td>-1.1746993</td><td>191</td><td>BCL11B, ....</td></tr>\n",
       "\t<tr><td>HALLMARK_ESTROGEN_RESPONSE_LATE           </td><td>2.013946e-02</td><td>3.472321e-02</td><td>0.35248786</td><td> 0.3613206</td><td> 1.3147409</td><td>185</td><td>ST14, AR....</td></tr>\n",
       "\t<tr><td>HALLMARK_FATTY_ACID_METABOLISM            </td><td>4.964539e-02</td><td>8.274232e-02</td><td>0.27128855</td><td> 0.3643643</td><td> 1.2834719</td><td>147</td><td>TP53INP2....</td></tr>\n",
       "\t<tr><td>HALLMARK_G2M_CHECKPOINT                   </td><td>9.847568e-20</td><td>9.847568e-19</td><td>1.15122052</td><td>-0.6583354</td><td>-2.4916527</td><td>199</td><td>STMN1, C....</td></tr>\n",
       "\t<tr><td>HALLMARK_GLYCOLYSIS                       </td><td>6.930693e-02</td><td>1.004268e-01</td><td>0.27128855</td><td>-0.3271469</td><td>-1.2312594</td><td>191</td><td>STMN1, V....</td></tr>\n",
       "\t<tr><td>HALLMARK_HEDGEHOG_SIGNALING               </td><td>7.250996e-01</td><td>7.250996e-01</td><td>0.06037864</td><td> 0.3009031</td><td> 0.8353864</td><td> 33</td><td>RTN1, AD....</td></tr>\n",
       "\t<tr><td>HALLMARK_HEME_METABOLISM                  </td><td>3.019478e-03</td><td>7.548696e-03</td><td>0.43170770</td><td> 0.4137303</td><td> 1.4959846</td><td>177</td><td>CTSB, AR....</td></tr>\n",
       "\t<tr><td>HALLMARK_HYPOXIA                          </td><td>1.306533e-01</td><td>1.633166e-01</td><td>0.15740290</td><td> 0.3205561</td><td> 1.1716950</td><td>190</td><td>CDKN1A, ....</td></tr>\n",
       "\t<tr><td>HALLMARK_IL2_STAT5_SIGNALING              </td><td>8.662155e-04</td><td>2.406154e-03</td><td>0.47727082</td><td> 0.4314375</td><td> 1.5671255</td><td>182</td><td>ECM1, CS....</td></tr>\n",
       "\t<tr><td>HALLMARK_IL6_JAK_STAT3_SIGNALING          </td><td>4.273295e-06</td><td>2.136647e-05</td><td>0.61052688</td><td> 0.6291459</td><td> 2.0341316</td><td> 79</td><td>CSF1, IR....</td></tr>\n",
       "\t<tr><td>HALLMARK_INFLAMMATORY_RESPONSE            </td><td>5.143718e-08</td><td>3.674085e-07</td><td>0.71951283</td><td> 0.5585693</td><td> 2.0188810</td><td>176</td><td>CD55, CS....</td></tr>\n",
       "\t<tr><td>HALLMARK_INTERFERON_ALPHA_RESPONSE        </td><td>1.229527e-24</td><td>2.049211e-23</td><td>1.28710367</td><td> 0.8465759</td><td> 2.8120165</td><td> 96</td><td>IFIH1, S....</td></tr>\n",
       "\t<tr><td>HALLMARK_INTERFERON_GAMMA_RESPONSE        </td><td>5.734533e-28</td><td>1.433633e-26</td><td>1.37274298</td><td> 0.7559213</td><td> 2.7525171</td><td>187</td><td>IFIH1, O....</td></tr>\n",
       "\t<tr><td>HALLMARK_KRAS_SIGNALING_DN                </td><td>9.075044e-02</td><td>1.226357e-01</td><td>0.19578900</td><td> 0.3424868</td><td> 1.2188740</td><td>156</td><td>TENM2, C....</td></tr>\n",
       "\t<tr><td>HALLMARK_KRAS_SIGNALING_UP                </td><td>4.843739e-04</td><td>1.513668e-03</td><td>0.49849311</td><td> 0.4420619</td><td> 1.6057166</td><td>182</td><td>PLAT, PL....</td></tr>\n",
       "\t<tr><td>HALLMARK_MITOTIC_SPINDLE                  </td><td>3.459674e-04</td><td>1.153225e-03</td><td>0.49849311</td><td>-0.4110950</td><td>-1.5559028</td><td>199</td><td>CENPF, T....</td></tr>\n",
       "\t<tr><td>HALLMARK_MTORC1_SIGNALING                 </td><td>6.188119e-02</td><td>9.668936e-02</td><td>0.28785712</td><td>-0.3259527</td><td>-1.2299304</td><td>198</td><td>HSPD1, B....</td></tr>\n",
       "\t<tr><td>HALLMARK_MYC_TARGETS_V1                   </td><td>5.262286e-23</td><td>6.577857e-22</td><td>1.24623277</td><td>-0.6846087</td><td>-2.5910913</td><td>199</td><td>HSPD1, A....</td></tr>\n",
       "\t<tr><td>HALLMARK_MYC_TARGETS_V2                   </td><td>1.427359e-07</td><td>7.929771e-07</td><td>0.69013246</td><td>-0.6807890</td><td>-2.1425629</td><td> 57</td><td>HSPD1, M....</td></tr>\n",
       "\t<tr><td>HALLMARK_MYOGENESIS                       </td><td>1.267579e-03</td><td>3.335735e-03</td><td>0.45505987</td><td> 0.4416646</td><td> 1.5768816</td><td>162</td><td>CDKN1A, ....</td></tr>\n",
       "\t<tr><td>HALLMARK_NOTCH_SIGNALING                  </td><td>7.414830e-02</td><td>1.029837e-01</td><td>0.23439265</td><td> 0.5192011</td><td> 1.4229423</td><td> 31</td><td>NOTCH3, ....</td></tr>\n",
       "\t<tr><td>HALLMARK_OXIDATIVE_PHOSPHORYLATION        </td><td>3.853932e-03</td><td>9.176030e-03</td><td>0.43170770</td><td> 0.4052860</td><td> 1.4843773</td><td>200</td><td>ATP1B1, ....</td></tr>\n",
       "\t<tr><td>HALLMARK_P53_PATHWAY                      </td><td>1.794790e-02</td><td>3.204982e-02</td><td>0.35248786</td><td> 0.3660912</td><td> 1.3428219</td><td>196</td><td>ST14, CD....</td></tr>\n",
       "\t<tr><td>HALLMARK_PANCREAS_BETA_CELLS              </td><td>5.099206e-01</td><td>5.424688e-01</td><td>0.07767986</td><td> 0.3534247</td><td> 0.9632883</td><td> 30</td><td>STXBP1, ....</td></tr>\n",
       "\t<tr><td>HALLMARK_PEROXISOME                       </td><td>7.029877e-02</td><td>1.004268e-01</td><td>0.22496609</td><td> 0.3923935</td><td> 1.3039864</td><td> 95</td><td>HMGCL, A....</td></tr>\n",
       "\t<tr><td>HALLMARK_PI3K_AKT_MTOR_SIGNALING          </td><td>5.634352e-03</td><td>1.280534e-02</td><td>0.40701792</td><td> 0.4621974</td><td> 1.5397759</td><td> 97</td><td>CDKN1A, ....</td></tr>\n",
       "\t<tr><td>HALLMARK_PROTEIN_SECRETION                </td><td>6.502636e-02</td><td>9.852479e-02</td><td>0.23439265</td><td> 0.3930287</td><td> 1.3060971</td><td> 95</td><td>RAB5A, A....</td></tr>\n",
       "\t<tr><td>HALLMARK_REACTIVE_OXYGEN_SPECIES_PATHWAY  </td><td>4.337812e-01</td><td>4.819791e-01</td><td>0.08455574</td><td> 0.3436788</td><td> 1.0116870</td><td> 47</td><td>ABCC1, M....</td></tr>\n",
       "\t<tr><td>HALLMARK_SPERMATOGENESIS                  </td><td>2.513607e-04</td><td>8.977170e-04</td><td>0.49849311</td><td>-0.5009458</td><td>-1.7382950</td><td>103</td><td>TTK, BUB....</td></tr>\n",
       "\t<tr><td>HALLMARK_TGF_BETA_SIGNALING               </td><td>7.990783e-03</td><td>1.664746e-02</td><td>0.38073040</td><td> 0.5363548</td><td> 1.6125792</td><td> 53</td><td>HIPK2, I....</td></tr>\n",
       "\t<tr><td>HALLMARK_TNFA_SIGNALING_VIA_NFKB          </td><td>7.554745e-08</td><td>4.721716e-07</td><td>0.70497572</td><td> 0.5291686</td><td> 1.9359088</td><td>191</td><td>IFIH1, C....</td></tr>\n",
       "\t<tr><td>HALLMARK_UNFOLDED_PROTEIN_RESPONSE        </td><td>2.147651e-01</td><td>2.556727e-01</td><td>0.14040624</td><td>-0.3166953</td><td>-1.1141102</td><td>111</td><td>ALDH18A1....</td></tr>\n",
       "\t<tr><td>HALLMARK_UV_RESPONSE_DN                   </td><td>1.708185e-01</td><td>2.083153e-01</td><td>0.14040624</td><td> 0.3292003</td><td> 1.1558430</td><td>143</td><td>MAP1B, S....</td></tr>\n",
       "\t<tr><td>HALLMARK_UV_RESPONSE_UP                   </td><td>5.477032e-02</td><td>8.833922e-02</td><td>0.25720647</td><td> 0.3571993</td><td> 1.2643941</td><td>150</td><td>PPIF, TA....</td></tr>\n",
       "\t<tr><td>HALLMARK_WNT_BETA_CATENIN_SIGNALING       </td><td>5.988258e-01</td><td>6.110468e-01</td><td>0.06879431</td><td> 0.3161728</td><td> 0.9040312</td><td> 40</td><td>CTNNB1, ....</td></tr>\n",
       "\t<tr><td>HALLMARK_XENOBIOTIC_METABOLISM            </td><td>4.924370e-01</td><td>5.352576e-01</td><td>0.07096095</td><td> 0.2712967</td><td> 0.9809648</td><td>178</td><td>SLC35D1,....</td></tr>\n",
       "</tbody>\n",
       "</table>\n"
      ],
      "text/latex": [
       "A data.table: 50 × 8\n",
       "\\begin{tabular}{llllllll}\n",
       " pathway & pval & padj & log2err & ES & NES & size & leadingEdge\\\\\n",
       " <chr> & <dbl> & <dbl> & <dbl> & <dbl> & <dbl> & <int> & <list>\\\\\n",
       "\\hline\n",
       "\t HALLMARK\\_ADIPOGENESIS                      & 1.182432e-01 & 1.515939e-01 & 0.16693385 &  0.3240932 &  1.1856595 & 193 & AGPAT3, ....\\\\\n",
       "\t HALLMARK\\_ALLOGRAFT\\_REJECTION               & 9.272556e-03 & 1.783184e-02 & 0.38073040 &  0.3918713 &  1.4053023 & 169 & CSF1, HL....\\\\\n",
       "\t HALLMARK\\_ANDROGEN\\_RESPONSE                 & 6.404817e-03 & 1.392352e-02 & 0.40701792 &  0.4542830 &  1.5183907 & 100 & B2M, PME....\\\\\n",
       "\t HALLMARK\\_ANGIOGENESIS                      & 3.067729e-01 & 3.486056e-01 & 0.10714024 &  0.3984348 &  1.1061602 &  33 & APP, TIM....\\\\\n",
       "\t HALLMARK\\_APICAL\\_JUNCTION                   & 5.251473e-04 & 1.544551e-03 & 0.47727082 &  0.4345799 &  1.5855565 & 189 & FYB1, IT....\\\\\n",
       "\t HALLMARK\\_APICAL\\_SURFACE                    & 1.574067e-02 & 2.914939e-02 & 0.35248786 &  0.5306275 &  1.5274805 &  41 & PLAUR, A....\\\\\n",
       "\t HALLMARK\\_APOPTOSIS                         & 1.079674e-04 & 4.152594e-04 & 0.53843410 &  0.4830703 &  1.7137845 & 153 & PLAT, CD....\\\\\n",
       "\t HALLMARK\\_BILE\\_ACID\\_METABOLISM              & 5.655172e-01 & 5.890805e-01 & 0.07998588 & -0.2773378 & -0.9487685 &  94 & BCAR3, T....\\\\\n",
       "\t HALLMARK\\_CHOLESTEROL\\_HOMEOSTASIS           & 8.924427e-03 & 1.783184e-02 & 0.38073040 &  0.4803528 &  1.5340234 &  74 & CLU, PLA....\\\\\n",
       "\t HALLMARK\\_COAGULATION                       & 3.069858e-05 & 1.395390e-04 & 0.55733224 &  0.5352461 &  1.8218371 & 116 & CTSB, PL....\\\\\n",
       "\t HALLMARK\\_COMPLEMENT                        & 1.512143e-09 & 1.260120e-08 & 0.78818681 &  0.5778989 &  2.0918005 & 179 & F5, CD55....\\\\\n",
       "\t HALLMARK\\_DNA\\_REPAIR                        & 2.981651e-01 & 3.467036e-01 & 0.11828753 & -0.2872294 & -1.0525510 & 150 & PRIM1, I....\\\\\n",
       "\t HALLMARK\\_E2F\\_TARGETS                       & 1.310649e-33 & 6.553243e-32 & 1.50926284 & -0.7481033 & -2.8314041 & 199 & STMN1, T....\\\\\n",
       "\t HALLMARK\\_EPITHELIAL\\_MESENCHYMAL\\_TRANSITION & 8.314576e-05 & 3.464407e-04 & 0.53843410 &  0.4524324 &  1.6551771 & 191 & ECM1, AR....\\\\\n",
       "\t HALLMARK\\_ESTROGEN\\_RESPONSE\\_EARLY           & 1.014851e-01 & 1.335331e-01 & 0.22205605 & -0.3121188 & -1.1746993 & 191 & BCL11B, ....\\\\\n",
       "\t HALLMARK\\_ESTROGEN\\_RESPONSE\\_LATE            & 2.013946e-02 & 3.472321e-02 & 0.35248786 &  0.3613206 &  1.3147409 & 185 & ST14, AR....\\\\\n",
       "\t HALLMARK\\_FATTY\\_ACID\\_METABOLISM             & 4.964539e-02 & 8.274232e-02 & 0.27128855 &  0.3643643 &  1.2834719 & 147 & TP53INP2....\\\\\n",
       "\t HALLMARK\\_G2M\\_CHECKPOINT                    & 9.847568e-20 & 9.847568e-19 & 1.15122052 & -0.6583354 & -2.4916527 & 199 & STMN1, C....\\\\\n",
       "\t HALLMARK\\_GLYCOLYSIS                        & 6.930693e-02 & 1.004268e-01 & 0.27128855 & -0.3271469 & -1.2312594 & 191 & STMN1, V....\\\\\n",
       "\t HALLMARK\\_HEDGEHOG\\_SIGNALING                & 7.250996e-01 & 7.250996e-01 & 0.06037864 &  0.3009031 &  0.8353864 &  33 & RTN1, AD....\\\\\n",
       "\t HALLMARK\\_HEME\\_METABOLISM                   & 3.019478e-03 & 7.548696e-03 & 0.43170770 &  0.4137303 &  1.4959846 & 177 & CTSB, AR....\\\\\n",
       "\t HALLMARK\\_HYPOXIA                           & 1.306533e-01 & 1.633166e-01 & 0.15740290 &  0.3205561 &  1.1716950 & 190 & CDKN1A, ....\\\\\n",
       "\t HALLMARK\\_IL2\\_STAT5\\_SIGNALING               & 8.662155e-04 & 2.406154e-03 & 0.47727082 &  0.4314375 &  1.5671255 & 182 & ECM1, CS....\\\\\n",
       "\t HALLMARK\\_IL6\\_JAK\\_STAT3\\_SIGNALING           & 4.273295e-06 & 2.136647e-05 & 0.61052688 &  0.6291459 &  2.0341316 &  79 & CSF1, IR....\\\\\n",
       "\t HALLMARK\\_INFLAMMATORY\\_RESPONSE             & 5.143718e-08 & 3.674085e-07 & 0.71951283 &  0.5585693 &  2.0188810 & 176 & CD55, CS....\\\\\n",
       "\t HALLMARK\\_INTERFERON\\_ALPHA\\_RESPONSE         & 1.229527e-24 & 2.049211e-23 & 1.28710367 &  0.8465759 &  2.8120165 &  96 & IFIH1, S....\\\\\n",
       "\t HALLMARK\\_INTERFERON\\_GAMMA\\_RESPONSE         & 5.734533e-28 & 1.433633e-26 & 1.37274298 &  0.7559213 &  2.7525171 & 187 & IFIH1, O....\\\\\n",
       "\t HALLMARK\\_KRAS\\_SIGNALING\\_DN                 & 9.075044e-02 & 1.226357e-01 & 0.19578900 &  0.3424868 &  1.2188740 & 156 & TENM2, C....\\\\\n",
       "\t HALLMARK\\_KRAS\\_SIGNALING\\_UP                 & 4.843739e-04 & 1.513668e-03 & 0.49849311 &  0.4420619 &  1.6057166 & 182 & PLAT, PL....\\\\\n",
       "\t HALLMARK\\_MITOTIC\\_SPINDLE                   & 3.459674e-04 & 1.153225e-03 & 0.49849311 & -0.4110950 & -1.5559028 & 199 & CENPF, T....\\\\\n",
       "\t HALLMARK\\_MTORC1\\_SIGNALING                  & 6.188119e-02 & 9.668936e-02 & 0.28785712 & -0.3259527 & -1.2299304 & 198 & HSPD1, B....\\\\\n",
       "\t HALLMARK\\_MYC\\_TARGETS\\_V1                    & 5.262286e-23 & 6.577857e-22 & 1.24623277 & -0.6846087 & -2.5910913 & 199 & HSPD1, A....\\\\\n",
       "\t HALLMARK\\_MYC\\_TARGETS\\_V2                    & 1.427359e-07 & 7.929771e-07 & 0.69013246 & -0.6807890 & -2.1425629 &  57 & HSPD1, M....\\\\\n",
       "\t HALLMARK\\_MYOGENESIS                        & 1.267579e-03 & 3.335735e-03 & 0.45505987 &  0.4416646 &  1.5768816 & 162 & CDKN1A, ....\\\\\n",
       "\t HALLMARK\\_NOTCH\\_SIGNALING                   & 7.414830e-02 & 1.029837e-01 & 0.23439265 &  0.5192011 &  1.4229423 &  31 & NOTCH3, ....\\\\\n",
       "\t HALLMARK\\_OXIDATIVE\\_PHOSPHORYLATION         & 3.853932e-03 & 9.176030e-03 & 0.43170770 &  0.4052860 &  1.4843773 & 200 & ATP1B1, ....\\\\\n",
       "\t HALLMARK\\_P53\\_PATHWAY                       & 1.794790e-02 & 3.204982e-02 & 0.35248786 &  0.3660912 &  1.3428219 & 196 & ST14, CD....\\\\\n",
       "\t HALLMARK\\_PANCREAS\\_BETA\\_CELLS               & 5.099206e-01 & 5.424688e-01 & 0.07767986 &  0.3534247 &  0.9632883 &  30 & STXBP1, ....\\\\\n",
       "\t HALLMARK\\_PEROXISOME                        & 7.029877e-02 & 1.004268e-01 & 0.22496609 &  0.3923935 &  1.3039864 &  95 & HMGCL, A....\\\\\n",
       "\t HALLMARK\\_PI3K\\_AKT\\_MTOR\\_SIGNALING           & 5.634352e-03 & 1.280534e-02 & 0.40701792 &  0.4621974 &  1.5397759 &  97 & CDKN1A, ....\\\\\n",
       "\t HALLMARK\\_PROTEIN\\_SECRETION                 & 6.502636e-02 & 9.852479e-02 & 0.23439265 &  0.3930287 &  1.3060971 &  95 & RAB5A, A....\\\\\n",
       "\t HALLMARK\\_REACTIVE\\_OXYGEN\\_SPECIES\\_PATHWAY   & 4.337812e-01 & 4.819791e-01 & 0.08455574 &  0.3436788 &  1.0116870 &  47 & ABCC1, M....\\\\\n",
       "\t HALLMARK\\_SPERMATOGENESIS                   & 2.513607e-04 & 8.977170e-04 & 0.49849311 & -0.5009458 & -1.7382950 & 103 & TTK, BUB....\\\\\n",
       "\t HALLMARK\\_TGF\\_BETA\\_SIGNALING                & 7.990783e-03 & 1.664746e-02 & 0.38073040 &  0.5363548 &  1.6125792 &  53 & HIPK2, I....\\\\\n",
       "\t HALLMARK\\_TNFA\\_SIGNALING\\_VIA\\_NFKB           & 7.554745e-08 & 4.721716e-07 & 0.70497572 &  0.5291686 &  1.9359088 & 191 & IFIH1, C....\\\\\n",
       "\t HALLMARK\\_UNFOLDED\\_PROTEIN\\_RESPONSE         & 2.147651e-01 & 2.556727e-01 & 0.14040624 & -0.3166953 & -1.1141102 & 111 & ALDH18A1....\\\\\n",
       "\t HALLMARK\\_UV\\_RESPONSE\\_DN                    & 1.708185e-01 & 2.083153e-01 & 0.14040624 &  0.3292003 &  1.1558430 & 143 & MAP1B, S....\\\\\n",
       "\t HALLMARK\\_UV\\_RESPONSE\\_UP                    & 5.477032e-02 & 8.833922e-02 & 0.25720647 &  0.3571993 &  1.2643941 & 150 & PPIF, TA....\\\\\n",
       "\t HALLMARK\\_WNT\\_BETA\\_CATENIN\\_SIGNALING        & 5.988258e-01 & 6.110468e-01 & 0.06879431 &  0.3161728 &  0.9040312 &  40 & CTNNB1, ....\\\\\n",
       "\t HALLMARK\\_XENOBIOTIC\\_METABOLISM             & 4.924370e-01 & 5.352576e-01 & 0.07096095 &  0.2712967 &  0.9809648 & 178 & SLC35D1,....\\\\\n",
       "\\end{tabular}\n"
      ],
      "text/markdown": [
       "\n",
       "A data.table: 50 × 8\n",
       "\n",
       "| pathway &lt;chr&gt; | pval &lt;dbl&gt; | padj &lt;dbl&gt; | log2err &lt;dbl&gt; | ES &lt;dbl&gt; | NES &lt;dbl&gt; | size &lt;int&gt; | leadingEdge &lt;list&gt; |\n",
       "|---|---|---|---|---|---|---|---|\n",
       "| HALLMARK_ADIPOGENESIS                      | 1.182432e-01 | 1.515939e-01 | 0.16693385 |  0.3240932 |  1.1856595 | 193 | AGPAT3, .... |\n",
       "| HALLMARK_ALLOGRAFT_REJECTION               | 9.272556e-03 | 1.783184e-02 | 0.38073040 |  0.3918713 |  1.4053023 | 169 | CSF1, HL.... |\n",
       "| HALLMARK_ANDROGEN_RESPONSE                 | 6.404817e-03 | 1.392352e-02 | 0.40701792 |  0.4542830 |  1.5183907 | 100 | B2M, PME.... |\n",
       "| HALLMARK_ANGIOGENESIS                      | 3.067729e-01 | 3.486056e-01 | 0.10714024 |  0.3984348 |  1.1061602 |  33 | APP, TIM.... |\n",
       "| HALLMARK_APICAL_JUNCTION                   | 5.251473e-04 | 1.544551e-03 | 0.47727082 |  0.4345799 |  1.5855565 | 189 | FYB1, IT.... |\n",
       "| HALLMARK_APICAL_SURFACE                    | 1.574067e-02 | 2.914939e-02 | 0.35248786 |  0.5306275 |  1.5274805 |  41 | PLAUR, A.... |\n",
       "| HALLMARK_APOPTOSIS                         | 1.079674e-04 | 4.152594e-04 | 0.53843410 |  0.4830703 |  1.7137845 | 153 | PLAT, CD.... |\n",
       "| HALLMARK_BILE_ACID_METABOLISM              | 5.655172e-01 | 5.890805e-01 | 0.07998588 | -0.2773378 | -0.9487685 |  94 | BCAR3, T.... |\n",
       "| HALLMARK_CHOLESTEROL_HOMEOSTASIS           | 8.924427e-03 | 1.783184e-02 | 0.38073040 |  0.4803528 |  1.5340234 |  74 | CLU, PLA.... |\n",
       "| HALLMARK_COAGULATION                       | 3.069858e-05 | 1.395390e-04 | 0.55733224 |  0.5352461 |  1.8218371 | 116 | CTSB, PL.... |\n",
       "| HALLMARK_COMPLEMENT                        | 1.512143e-09 | 1.260120e-08 | 0.78818681 |  0.5778989 |  2.0918005 | 179 | F5, CD55.... |\n",
       "| HALLMARK_DNA_REPAIR                        | 2.981651e-01 | 3.467036e-01 | 0.11828753 | -0.2872294 | -1.0525510 | 150 | PRIM1, I.... |\n",
       "| HALLMARK_E2F_TARGETS                       | 1.310649e-33 | 6.553243e-32 | 1.50926284 | -0.7481033 | -2.8314041 | 199 | STMN1, T.... |\n",
       "| HALLMARK_EPITHELIAL_MESENCHYMAL_TRANSITION | 8.314576e-05 | 3.464407e-04 | 0.53843410 |  0.4524324 |  1.6551771 | 191 | ECM1, AR.... |\n",
       "| HALLMARK_ESTROGEN_RESPONSE_EARLY           | 1.014851e-01 | 1.335331e-01 | 0.22205605 | -0.3121188 | -1.1746993 | 191 | BCL11B, .... |\n",
       "| HALLMARK_ESTROGEN_RESPONSE_LATE            | 2.013946e-02 | 3.472321e-02 | 0.35248786 |  0.3613206 |  1.3147409 | 185 | ST14, AR.... |\n",
       "| HALLMARK_FATTY_ACID_METABOLISM             | 4.964539e-02 | 8.274232e-02 | 0.27128855 |  0.3643643 |  1.2834719 | 147 | TP53INP2.... |\n",
       "| HALLMARK_G2M_CHECKPOINT                    | 9.847568e-20 | 9.847568e-19 | 1.15122052 | -0.6583354 | -2.4916527 | 199 | STMN1, C.... |\n",
       "| HALLMARK_GLYCOLYSIS                        | 6.930693e-02 | 1.004268e-01 | 0.27128855 | -0.3271469 | -1.2312594 | 191 | STMN1, V.... |\n",
       "| HALLMARK_HEDGEHOG_SIGNALING                | 7.250996e-01 | 7.250996e-01 | 0.06037864 |  0.3009031 |  0.8353864 |  33 | RTN1, AD.... |\n",
       "| HALLMARK_HEME_METABOLISM                   | 3.019478e-03 | 7.548696e-03 | 0.43170770 |  0.4137303 |  1.4959846 | 177 | CTSB, AR.... |\n",
       "| HALLMARK_HYPOXIA                           | 1.306533e-01 | 1.633166e-01 | 0.15740290 |  0.3205561 |  1.1716950 | 190 | CDKN1A, .... |\n",
       "| HALLMARK_IL2_STAT5_SIGNALING               | 8.662155e-04 | 2.406154e-03 | 0.47727082 |  0.4314375 |  1.5671255 | 182 | ECM1, CS.... |\n",
       "| HALLMARK_IL6_JAK_STAT3_SIGNALING           | 4.273295e-06 | 2.136647e-05 | 0.61052688 |  0.6291459 |  2.0341316 |  79 | CSF1, IR.... |\n",
       "| HALLMARK_INFLAMMATORY_RESPONSE             | 5.143718e-08 | 3.674085e-07 | 0.71951283 |  0.5585693 |  2.0188810 | 176 | CD55, CS.... |\n",
       "| HALLMARK_INTERFERON_ALPHA_RESPONSE         | 1.229527e-24 | 2.049211e-23 | 1.28710367 |  0.8465759 |  2.8120165 |  96 | IFIH1, S.... |\n",
       "| HALLMARK_INTERFERON_GAMMA_RESPONSE         | 5.734533e-28 | 1.433633e-26 | 1.37274298 |  0.7559213 |  2.7525171 | 187 | IFIH1, O.... |\n",
       "| HALLMARK_KRAS_SIGNALING_DN                 | 9.075044e-02 | 1.226357e-01 | 0.19578900 |  0.3424868 |  1.2188740 | 156 | TENM2, C.... |\n",
       "| HALLMARK_KRAS_SIGNALING_UP                 | 4.843739e-04 | 1.513668e-03 | 0.49849311 |  0.4420619 |  1.6057166 | 182 | PLAT, PL.... |\n",
       "| HALLMARK_MITOTIC_SPINDLE                   | 3.459674e-04 | 1.153225e-03 | 0.49849311 | -0.4110950 | -1.5559028 | 199 | CENPF, T.... |\n",
       "| HALLMARK_MTORC1_SIGNALING                  | 6.188119e-02 | 9.668936e-02 | 0.28785712 | -0.3259527 | -1.2299304 | 198 | HSPD1, B.... |\n",
       "| HALLMARK_MYC_TARGETS_V1                    | 5.262286e-23 | 6.577857e-22 | 1.24623277 | -0.6846087 | -2.5910913 | 199 | HSPD1, A.... |\n",
       "| HALLMARK_MYC_TARGETS_V2                    | 1.427359e-07 | 7.929771e-07 | 0.69013246 | -0.6807890 | -2.1425629 |  57 | HSPD1, M.... |\n",
       "| HALLMARK_MYOGENESIS                        | 1.267579e-03 | 3.335735e-03 | 0.45505987 |  0.4416646 |  1.5768816 | 162 | CDKN1A, .... |\n",
       "| HALLMARK_NOTCH_SIGNALING                   | 7.414830e-02 | 1.029837e-01 | 0.23439265 |  0.5192011 |  1.4229423 |  31 | NOTCH3, .... |\n",
       "| HALLMARK_OXIDATIVE_PHOSPHORYLATION         | 3.853932e-03 | 9.176030e-03 | 0.43170770 |  0.4052860 |  1.4843773 | 200 | ATP1B1, .... |\n",
       "| HALLMARK_P53_PATHWAY                       | 1.794790e-02 | 3.204982e-02 | 0.35248786 |  0.3660912 |  1.3428219 | 196 | ST14, CD.... |\n",
       "| HALLMARK_PANCREAS_BETA_CELLS               | 5.099206e-01 | 5.424688e-01 | 0.07767986 |  0.3534247 |  0.9632883 |  30 | STXBP1, .... |\n",
       "| HALLMARK_PEROXISOME                        | 7.029877e-02 | 1.004268e-01 | 0.22496609 |  0.3923935 |  1.3039864 |  95 | HMGCL, A.... |\n",
       "| HALLMARK_PI3K_AKT_MTOR_SIGNALING           | 5.634352e-03 | 1.280534e-02 | 0.40701792 |  0.4621974 |  1.5397759 |  97 | CDKN1A, .... |\n",
       "| HALLMARK_PROTEIN_SECRETION                 | 6.502636e-02 | 9.852479e-02 | 0.23439265 |  0.3930287 |  1.3060971 |  95 | RAB5A, A.... |\n",
       "| HALLMARK_REACTIVE_OXYGEN_SPECIES_PATHWAY   | 4.337812e-01 | 4.819791e-01 | 0.08455574 |  0.3436788 |  1.0116870 |  47 | ABCC1, M.... |\n",
       "| HALLMARK_SPERMATOGENESIS                   | 2.513607e-04 | 8.977170e-04 | 0.49849311 | -0.5009458 | -1.7382950 | 103 | TTK, BUB.... |\n",
       "| HALLMARK_TGF_BETA_SIGNALING                | 7.990783e-03 | 1.664746e-02 | 0.38073040 |  0.5363548 |  1.6125792 |  53 | HIPK2, I.... |\n",
       "| HALLMARK_TNFA_SIGNALING_VIA_NFKB           | 7.554745e-08 | 4.721716e-07 | 0.70497572 |  0.5291686 |  1.9359088 | 191 | IFIH1, C.... |\n",
       "| HALLMARK_UNFOLDED_PROTEIN_RESPONSE         | 2.147651e-01 | 2.556727e-01 | 0.14040624 | -0.3166953 | -1.1141102 | 111 | ALDH18A1.... |\n",
       "| HALLMARK_UV_RESPONSE_DN                    | 1.708185e-01 | 2.083153e-01 | 0.14040624 |  0.3292003 |  1.1558430 | 143 | MAP1B, S.... |\n",
       "| HALLMARK_UV_RESPONSE_UP                    | 5.477032e-02 | 8.833922e-02 | 0.25720647 |  0.3571993 |  1.2643941 | 150 | PPIF, TA.... |\n",
       "| HALLMARK_WNT_BETA_CATENIN_SIGNALING        | 5.988258e-01 | 6.110468e-01 | 0.06879431 |  0.3161728 |  0.9040312 |  40 | CTNNB1, .... |\n",
       "| HALLMARK_XENOBIOTIC_METABOLISM             | 4.924370e-01 | 5.352576e-01 | 0.07096095 |  0.2712967 |  0.9809648 | 178 | SLC35D1,.... |\n",
       "\n"
      ],
      "text/plain": [
       "   pathway                                    pval         padj        \n",
       "1  HALLMARK_ADIPOGENESIS                      1.182432e-01 1.515939e-01\n",
       "2  HALLMARK_ALLOGRAFT_REJECTION               9.272556e-03 1.783184e-02\n",
       "3  HALLMARK_ANDROGEN_RESPONSE                 6.404817e-03 1.392352e-02\n",
       "4  HALLMARK_ANGIOGENESIS                      3.067729e-01 3.486056e-01\n",
       "5  HALLMARK_APICAL_JUNCTION                   5.251473e-04 1.544551e-03\n",
       "6  HALLMARK_APICAL_SURFACE                    1.574067e-02 2.914939e-02\n",
       "7  HALLMARK_APOPTOSIS                         1.079674e-04 4.152594e-04\n",
       "8  HALLMARK_BILE_ACID_METABOLISM              5.655172e-01 5.890805e-01\n",
       "9  HALLMARK_CHOLESTEROL_HOMEOSTASIS           8.924427e-03 1.783184e-02\n",
       "10 HALLMARK_COAGULATION                       3.069858e-05 1.395390e-04\n",
       "11 HALLMARK_COMPLEMENT                        1.512143e-09 1.260120e-08\n",
       "12 HALLMARK_DNA_REPAIR                        2.981651e-01 3.467036e-01\n",
       "13 HALLMARK_E2F_TARGETS                       1.310649e-33 6.553243e-32\n",
       "14 HALLMARK_EPITHELIAL_MESENCHYMAL_TRANSITION 8.314576e-05 3.464407e-04\n",
       "15 HALLMARK_ESTROGEN_RESPONSE_EARLY           1.014851e-01 1.335331e-01\n",
       "16 HALLMARK_ESTROGEN_RESPONSE_LATE            2.013946e-02 3.472321e-02\n",
       "17 HALLMARK_FATTY_ACID_METABOLISM             4.964539e-02 8.274232e-02\n",
       "18 HALLMARK_G2M_CHECKPOINT                    9.847568e-20 9.847568e-19\n",
       "19 HALLMARK_GLYCOLYSIS                        6.930693e-02 1.004268e-01\n",
       "20 HALLMARK_HEDGEHOG_SIGNALING                7.250996e-01 7.250996e-01\n",
       "21 HALLMARK_HEME_METABOLISM                   3.019478e-03 7.548696e-03\n",
       "22 HALLMARK_HYPOXIA                           1.306533e-01 1.633166e-01\n",
       "23 HALLMARK_IL2_STAT5_SIGNALING               8.662155e-04 2.406154e-03\n",
       "24 HALLMARK_IL6_JAK_STAT3_SIGNALING           4.273295e-06 2.136647e-05\n",
       "25 HALLMARK_INFLAMMATORY_RESPONSE             5.143718e-08 3.674085e-07\n",
       "26 HALLMARK_INTERFERON_ALPHA_RESPONSE         1.229527e-24 2.049211e-23\n",
       "27 HALLMARK_INTERFERON_GAMMA_RESPONSE         5.734533e-28 1.433633e-26\n",
       "28 HALLMARK_KRAS_SIGNALING_DN                 9.075044e-02 1.226357e-01\n",
       "29 HALLMARK_KRAS_SIGNALING_UP                 4.843739e-04 1.513668e-03\n",
       "30 HALLMARK_MITOTIC_SPINDLE                   3.459674e-04 1.153225e-03\n",
       "31 HALLMARK_MTORC1_SIGNALING                  6.188119e-02 9.668936e-02\n",
       "32 HALLMARK_MYC_TARGETS_V1                    5.262286e-23 6.577857e-22\n",
       "33 HALLMARK_MYC_TARGETS_V2                    1.427359e-07 7.929771e-07\n",
       "34 HALLMARK_MYOGENESIS                        1.267579e-03 3.335735e-03\n",
       "35 HALLMARK_NOTCH_SIGNALING                   7.414830e-02 1.029837e-01\n",
       "36 HALLMARK_OXIDATIVE_PHOSPHORYLATION         3.853932e-03 9.176030e-03\n",
       "37 HALLMARK_P53_PATHWAY                       1.794790e-02 3.204982e-02\n",
       "38 HALLMARK_PANCREAS_BETA_CELLS               5.099206e-01 5.424688e-01\n",
       "39 HALLMARK_PEROXISOME                        7.029877e-02 1.004268e-01\n",
       "40 HALLMARK_PI3K_AKT_MTOR_SIGNALING           5.634352e-03 1.280534e-02\n",
       "41 HALLMARK_PROTEIN_SECRETION                 6.502636e-02 9.852479e-02\n",
       "42 HALLMARK_REACTIVE_OXYGEN_SPECIES_PATHWAY   4.337812e-01 4.819791e-01\n",
       "43 HALLMARK_SPERMATOGENESIS                   2.513607e-04 8.977170e-04\n",
       "44 HALLMARK_TGF_BETA_SIGNALING                7.990783e-03 1.664746e-02\n",
       "45 HALLMARK_TNFA_SIGNALING_VIA_NFKB           7.554745e-08 4.721716e-07\n",
       "46 HALLMARK_UNFOLDED_PROTEIN_RESPONSE         2.147651e-01 2.556727e-01\n",
       "47 HALLMARK_UV_RESPONSE_DN                    1.708185e-01 2.083153e-01\n",
       "48 HALLMARK_UV_RESPONSE_UP                    5.477032e-02 8.833922e-02\n",
       "49 HALLMARK_WNT_BETA_CATENIN_SIGNALING        5.988258e-01 6.110468e-01\n",
       "50 HALLMARK_XENOBIOTIC_METABOLISM             4.924370e-01 5.352576e-01\n",
       "   log2err    ES         NES        size leadingEdge \n",
       "1  0.16693385  0.3240932  1.1856595 193  AGPAT3, ....\n",
       "2  0.38073040  0.3918713  1.4053023 169  CSF1, HL....\n",
       "3  0.40701792  0.4542830  1.5183907 100  B2M, PME....\n",
       "4  0.10714024  0.3984348  1.1061602  33  APP, TIM....\n",
       "5  0.47727082  0.4345799  1.5855565 189  FYB1, IT....\n",
       "6  0.35248786  0.5306275  1.5274805  41  PLAUR, A....\n",
       "7  0.53843410  0.4830703  1.7137845 153  PLAT, CD....\n",
       "8  0.07998588 -0.2773378 -0.9487685  94  BCAR3, T....\n",
       "9  0.38073040  0.4803528  1.5340234  74  CLU, PLA....\n",
       "10 0.55733224  0.5352461  1.8218371 116  CTSB, PL....\n",
       "11 0.78818681  0.5778989  2.0918005 179  F5, CD55....\n",
       "12 0.11828753 -0.2872294 -1.0525510 150  PRIM1, I....\n",
       "13 1.50926284 -0.7481033 -2.8314041 199  STMN1, T....\n",
       "14 0.53843410  0.4524324  1.6551771 191  ECM1, AR....\n",
       "15 0.22205605 -0.3121188 -1.1746993 191  BCL11B, ....\n",
       "16 0.35248786  0.3613206  1.3147409 185  ST14, AR....\n",
       "17 0.27128855  0.3643643  1.2834719 147  TP53INP2....\n",
       "18 1.15122052 -0.6583354 -2.4916527 199  STMN1, C....\n",
       "19 0.27128855 -0.3271469 -1.2312594 191  STMN1, V....\n",
       "20 0.06037864  0.3009031  0.8353864  33  RTN1, AD....\n",
       "21 0.43170770  0.4137303  1.4959846 177  CTSB, AR....\n",
       "22 0.15740290  0.3205561  1.1716950 190  CDKN1A, ....\n",
       "23 0.47727082  0.4314375  1.5671255 182  ECM1, CS....\n",
       "24 0.61052688  0.6291459  2.0341316  79  CSF1, IR....\n",
       "25 0.71951283  0.5585693  2.0188810 176  CD55, CS....\n",
       "26 1.28710367  0.8465759  2.8120165  96  IFIH1, S....\n",
       "27 1.37274298  0.7559213  2.7525171 187  IFIH1, O....\n",
       "28 0.19578900  0.3424868  1.2188740 156  TENM2, C....\n",
       "29 0.49849311  0.4420619  1.6057166 182  PLAT, PL....\n",
       "30 0.49849311 -0.4110950 -1.5559028 199  CENPF, T....\n",
       "31 0.28785712 -0.3259527 -1.2299304 198  HSPD1, B....\n",
       "32 1.24623277 -0.6846087 -2.5910913 199  HSPD1, A....\n",
       "33 0.69013246 -0.6807890 -2.1425629  57  HSPD1, M....\n",
       "34 0.45505987  0.4416646  1.5768816 162  CDKN1A, ....\n",
       "35 0.23439265  0.5192011  1.4229423  31  NOTCH3, ....\n",
       "36 0.43170770  0.4052860  1.4843773 200  ATP1B1, ....\n",
       "37 0.35248786  0.3660912  1.3428219 196  ST14, CD....\n",
       "38 0.07767986  0.3534247  0.9632883  30  STXBP1, ....\n",
       "39 0.22496609  0.3923935  1.3039864  95  HMGCL, A....\n",
       "40 0.40701792  0.4621974  1.5397759  97  CDKN1A, ....\n",
       "41 0.23439265  0.3930287  1.3060971  95  RAB5A, A....\n",
       "42 0.08455574  0.3436788  1.0116870  47  ABCC1, M....\n",
       "43 0.49849311 -0.5009458 -1.7382950 103  TTK, BUB....\n",
       "44 0.38073040  0.5363548  1.6125792  53  HIPK2, I....\n",
       "45 0.70497572  0.5291686  1.9359088 191  IFIH1, C....\n",
       "46 0.14040624 -0.3166953 -1.1141102 111  ALDH18A1....\n",
       "47 0.14040624  0.3292003  1.1558430 143  MAP1B, S....\n",
       "48 0.25720647  0.3571993  1.2643941 150  PPIF, TA....\n",
       "49 0.06879431  0.3161728  0.9040312  40  CTNNB1, ....\n",
       "50 0.07096095  0.2712967  0.9809648 178  SLC35D1,...."
      ]
     },
     "metadata": {},
     "output_type": "display_data"
    }
   ],
   "source": [
    "fgsearesC$RAB5A_vs_EV"
   ]
  },
  {
   "cell_type": "code",
   "execution_count": 30,
   "id": "fd9a6aae-5ecf-4951-bca2-f34e8a422bda",
   "metadata": {
    "vscode": {
     "languageId": "r"
    }
   },
   "outputs": [],
   "source": [
    "# Function to generate an enrichment plot with color bar\n",
    "enplot <- function(fgsea_result, pathway_name, stats, title = NULL) {\n",
    "  \n",
    "  # Ensure stats is a named numeric vector\n",
    "  if (!is.numeric(stats) || is.list(stats)) {\n",
    "    stats <- unlist(stats)  # Convert list to numeric vector if needed\n",
    "  }\n",
    "  \n",
    "  # Remove non-finite values from stats\n",
    "  stats <- stats[is.finite(stats)]\n",
    "  \n",
    "  # Ensure names are retained\n",
    "  if (is.null(names(stats))) {\n",
    "    stop(\"Error: 'stats' must be a named numeric vector with gene identifiers.\")\n",
    "  }\n",
    "  \n",
    "  # Extract enrichment result for the specific pathway\n",
    "  enrichment <- fgsea_result[fgsea_result$pathway == pathway_name,]\n",
    "  \n",
    "  # Check if pathway exists\n",
    "  if (nrow(enrichment) == 0) {\n",
    "    stop(paste(\"Error: Pathway\", pathway_name, \"not found in fgsea results.\"))\n",
    "  }\n",
    "  \n",
    "  # Ensure pathway genes exist in stats\n",
    "  pathway_genes <- enrichment$leadingEdge[[1]]\n",
    "  pathway_genes <- pathway_genes[pathway_genes %in% names(stats)]  # Keep only valid genes\n",
    "  \n",
    "  if (length(pathway_genes) == 0) {\n",
    "    stop(\"Error: No genes from the pathway are found in stats.\")\n",
    "  }\n",
    "  \n",
    "  # Generate the enrichment score plot\n",
    "  gsea_plot <- plotEnrichment(pathway = pathway_genes, stats = stats) +\n",
    "    ggtitle(ifelse(is.null(title), paste(\"Enrichment plot:\", pathway_name), title)) +\n",
    "    theme(plot.title = element_text(hjust = 0.5)) +\n",
    "    scale_color_manual(values = c(\"green\")) \n",
    "\n",
    "  # Generate color bar for ranking metric\n",
    "  ranked_stats <- sort(stats, decreasing = TRUE)\n",
    "  rank_positions <- seq_along(ranked_stats)\n",
    "  \n",
    "  # Create a data frame for the color bar\n",
    "  color_bar_data <- data.frame(\n",
    "    Rank = rank_positions,\n",
    "    Score = ranked_stats\n",
    "  )\n",
    "  \n",
    "  color_bar <- ggplot(color_bar_data, aes(x = Rank, y = 1, fill = Score)) +\n",
    "    geom_tile() +\n",
    "    scale_fill_gradient2(low = \"blue\", mid = \"white\", high = \"red\", midpoint = 0) +\n",
    "    theme_minimal() +\n",
    "    theme(axis.text = element_blank(),\n",
    "          axis.title = element_blank(),\n",
    "          panel.grid = element_blank(),\n",
    "          legend.position = \"none\")\n",
    "\n",
    "  # Arrange the plots together\n",
    "  grid.arrange(gsea_plot, color_bar, ncol = 1, heights = c(4, 1))\n",
    "}\n",
    "\n",
    "# Example usage:\n",
    "# enplot(fgseaRes, \"HALLMARK_TNFA_SIGNALING_VIA_NFKB\", stats)"
   ]
  },
  {
   "cell_type": "code",
   "execution_count": 31,
   "id": "42430a21-516a-44a6-b55f-c8bdb5ca0612",
   "metadata": {
    "vscode": {
     "languageId": "r"
    }
   },
   "outputs": [
    {
     "data": {
      "image/png": "[encoded data removed]",
      "text/plain": [
       "plot without title"
      ]
     },
     "metadata": {
      "image/png": {
       "height": 420,
       "width": 420
      }
     },
     "output_type": "display_data"
    }
   ],
   "source": [
    "enplot(fgsearesC$RAB5A_vs_EV, \"HALLMARK_ADIPOGENESIS\", ranksC$RAB5A_vs_EV)"
   ]
  },
  {
   "cell_type": "code",
   "execution_count": 29,
   "id": "4fc94ec1-3229-438d-b5d2-88367f78ea59",
   "metadata": {
    "vscode": {
     "languageId": "r"
    }
   },
   "outputs": [
    {
     "name": "stderr",
     "output_type": "stream",
     "text": [
      "\n",
      "Attaching package: ‘gridExtra’\n",
      "\n",
      "\n",
      "The following object is masked from ‘package:Biobase’:\n",
      "\n",
      "    combine\n",
      "\n",
      "\n",
      "The following object is masked from ‘package:BiocGenerics’:\n",
      "\n",
      "    combine\n",
      "\n",
      "\n",
      "The following object is masked from ‘package:dplyr’:\n",
      "\n",
      "    combine\n",
      "\n",
      "\n"
     ]
    }
   ],
   "source": [
    "library(gridExtra)"
   ]
  },
  {
   "cell_type": "code",
   "execution_count": null,
   "id": "25391134-0ad2-40ec-aba5-ec360a9da17b",
   "metadata": {
    "vscode": {
     "languageId": "r"
    }
   },
   "outputs": [],
   "source": [
    "fgsearesCTidy <- lapply(fgsearesC, function(x) x %>% as_tibble() %>% arrange(desc(NES)))\n",
    "\n",
    "for (i in names(fgsearesCTidy)) {\n",
    "  fgsearesCTidy[[i]] <- fgsearesCTidy[[i]] %>% as.data.frame() %>% mutate(\"Comparison\"=i)\n",
    "}\n",
    "\n",
    "fgsearesCTidy <- fgsearesCTidy %>%  purrr::reduce(full_join)\n",
    "fgsearesCTidy$log10_Pvalue <- -log10(fgsearesCTidy$padj)\n",
    "fgsearesCTidy$log10_Pvalue[fgsearesCTidy$NES < 0] <- fgsearesCTidy$log10_Pvalue[fgsearesCTidy$NES < 0] * -1 "
   ]
  },
  {
   "cell_type": "code",
   "execution_count": null,
   "id": "c6d7291e-2a51-4058-a341-2a73953a6894",
   "metadata": {
    "vscode": {
     "languageId": "r"
    }
   },
   "outputs": [],
   "source": [
    "fgsearesCTidy$pathway <- str_split_fixed(fgsearesCTidy$pathway, \"_\", 2)[,2]\n",
    "\n",
    "g <- list()\n",
    "\n",
    "order <- fgsearesCTidy %>%\n",
    "    filter(Comparison == \"RAB5A_vs_EV\") %>% \n",
    "    dplyr::select(1) %>%\n",
    "    pull()\n",
    "\n",
    "for (i in unique(fgsearesCTidy$Comparison)) {\n",
    "  g[[i]] = fgsearesCTidy %>%\n",
    "    filter(Comparison == i) %>%\n",
    "    ggplot(., aes(reorder(pathway, NES), NES, fill=log10_Pvalue)) +\n",
    "    scale_x_discrete(limits=order) +\n",
    "    ylim(c(min(fgsearesCTidy$NES), max(fgsearesCTidy$NES))) +\n",
    "    geom_bar(stat = \"identity\")+\n",
    "    scale_fill_gradient2(low = \"blue\", high = \"red\",mid = \"grey70\") +\n",
    "    geom_col(aes(colour=padj<0.05)) +\n",
    "    scale_color_manual(values = c(\"white\", \"black\"))+\n",
    "    coord_flip() +\n",
    "    labs(x=\"Pathway\", y=\"Normalized Enrichment Score\",\n",
    "         title=paste(\"Hallmark pathways NES from GSEA\", i, sep = \" \")) + \n",
    "    theme_classic()+\n",
    "    theme(plot.title = element_text(color=\"black\", size=10, face=\"bold.italic\", hjust = 2),\n",
    "          axis.text.x = element_text(angle = 45, face = \"bold\", color = \"black\", size=10, hjust =1), \n",
    "          axis.title.x = element_text(face = \"bold\", color = \"black\", size = 0),\n",
    "          axis.text.y = element_text(angle = 0, face = \"bold\", color = \"black\", size=9),\n",
    "          axis.title.y = element_text(face = \"bold\", color = \"black\", size = 0),\n",
    "          legend.text = element_text(face = \"bold\", color = \"black\", size = 10),\n",
    "          legend.position=\"left\",\n",
    "          panel.background = element_rect(fill = \"white\",colour = \"white\", size = 1, linetype = \"solid\"))\n",
    "}\n",
    "\n",
    "for (i in names(g)) {\n",
    "  ggsave(paste(\"Hallmark_GSEA_RAB5AvsEV_\",i,\".png\", sep = \"\"), width=18, height=18, dpi = 330, units = \"cm\", plot = g[[i]])\n",
    "}"
   ]
  },
  {
   "cell_type": "code",
   "execution_count": null,
   "id": "6cd38e08-9d0a-416d-bece-2ef68f10339e",
   "metadata": {
    "vscode": {
     "languageId": "r"
    }
   },
   "outputs": [],
   "source": [
    "fgsearesCTidy_toHT <- fgsearesC\n",
    "\n",
    "for(i in names(fgsearesCTidy_toHT)) {\n",
    "    fgsearesCTidy_toHT[[i]] <- fgsearesCTidy_toHT[[i]] #%>% filter(padj < 0.05)\n",
    "}\n",
    "\n",
    "fgsearesCTidy_toHT <- fgsearesCTidy_toHT %>% lapply(., function(x) x[, c(1,6)])\n",
    "\n",
    "for(i in names(fgsearesCTidy_toHT)) {\n",
    "    names(fgsearesCTidy_toHT[[i]]) <- c(\"pathway\", paste(\"NES\", i, sep = \"_\"))\n",
    "}\n",
    "                                                    \n",
    "fgsearesCTidy_toHT <- fgsearesCTidy_toHT %>% reduce(., full_join, by = \"pathway\")\n",
    "fgsearesCTidy_toHT[is.na(fgsearesCTidy_toHT),]  <- 0 \n",
    "fgsearesCTidy_toHT$pathway <- str_split_fixed(fgsearesCTidy_toHT$pathway, \"_\", 2)[,2]                                                   "
   ]
  },
  {
   "cell_type": "code",
   "execution_count": null,
   "id": "4435b8fa-5058-466d-b5d8-5c3d2da0f51f",
   "metadata": {
    "vscode": {
     "languageId": "r"
    }
   },
   "outputs": [],
   "source": [
    "test_labels <- fgsearesC\n",
    "\n",
    "for(i in names(test_labels)) {\n",
    "    test_labels[[i]] <- test_labels[[i]] #%>% filter(padj < 0.05)\n",
    "}\n",
    "\n",
    "test_labels <- test_labels %>% lapply(., function(x) x[, c(1,3)])\n",
    "\n",
    "for(i in names(test_labels)) {\n",
    "    names(test_labels[[i]]) <- c(\"pathway\", paste(\"padj\", i, sep = \"_\"))\n",
    "}\n",
    "                                                    \n",
    "test_labels <- test_labels %>% reduce(., full_join, by = \"pathway\")\n",
    "test_labels <- test_labels %>% tibble::column_to_rownames(\"pathway\") %>%  dplyr::select(c(\"padj_MIX_4_1_vs_EV\", \"padj_MIX_1_4_vs_EV\", \"padj_RAB5A_vs_EV\")) %>% as.matrix()\n",
    "test_labels[is.na(test_labels)]  <- 1\n",
    "\n",
    "pvalue_to_asterisks <- function(p_values) {\n",
    "  asterisks <- apply(p_values, c(1, 2), function(x) {\n",
    "    if (x < 0.001) {\n",
    "      return(\"***\")\n",
    "    } else if (x < 0.01) {\n",
    "      return(\"**\")\n",
    "    } else if (x < 0.05) {\n",
    "      return(\"*\")\n",
    "    } else {\n",
    "      return(\"\") # No significance\n",
    "    }\n",
    "  })\n",
    "  return(asterisks)\n",
    "}\n",
    "\n",
    "test_labels <- test_labels %>% pvalue_to_asterisks(.) %>% t()"
   ]
  },
  {
   "cell_type": "code",
   "execution_count": null,
   "id": "b9d7e470-523b-44dd-ae8b-80c990ea4312",
   "metadata": {
    "vscode": {
     "languageId": "r"
    }
   },
   "outputs": [],
   "source": [
    "crp <- colorRampPalette(c('blue', 'white','red'))\n",
    "colors = crp(255)\n",
    "\n",
    "fgsearesCTidy_toHT %>% \n",
    "    as.data.frame() %>%\n",
    "    tibble::column_to_rownames(\"pathway\") %>%\n",
    "    dplyr::select(c(\"NES_MIX_4_1_vs_EV\", \"NES_MIX_1_4_vs_EV\", \"NES_RAB5A_vs_EV\")) %>%\n",
    "    as.matrix() %>%\n",
    "    t() %>%\n",
    "    pheatmap(., fontsize_col = 8, fontsize_number = 12, \n",
    "                         display_numbers = test_labels, \n",
    "                         number_color = \"black\",\n",
    "                         col=colors, border_color = \"white\",\n",
    "                         cellwidth = 20, cellheight = 20,\n",
    "                         scale = \"none\", cluster_rows=F , cluster_cols=T,\n",
    "                         main = \"All_Genes_Pathway\", filename = \"All_pathway.png\",\n",
    "                         show_rownames = T, legend = TRUE,\n",
    "                         angle_col = 90, show_colnames = T)"
   ]
  },
  {
   "cell_type": "code",
   "execution_count": null,
   "id": "874db9f6-f0e4-4af2-b0f1-fecba8e56064",
   "metadata": {
    "vscode": {
     "languageId": "r"
    }
   },
   "outputs": [],
   "source": [
    "library(ggvenn)"
   ]
  },
  {
   "cell_type": "code",
   "execution_count": null,
   "id": "fd1e0ca4-a5f7-4608-8ed8-dfbddc96163b",
   "metadata": {
    "vscode": {
     "languageId": "r"
    }
   },
   "outputs": [],
   "source": [
    "DEGs_name_UP <-  lapply(DEGs, function(x)  x %>%\n",
    "                        filter(log2FoldChange > 0) %>%\n",
    "                        dplyr::select(\"Gene_name\") %>%\n",
    "                        pull() %>%\n",
    "                        unique() %>%\n",
    "                        na.omit())\n",
    "\n",
    "DEGs_name_DOWN <-  lapply(DEGs, function(x)  x %>%\n",
    "                        filter(log2FoldChange < 0) %>%\n",
    "                        dplyr::select(\"Gene_name\") %>%\n",
    "                        pull() %>%\n",
    "                        unique() %>%\n",
    "                        na.omit())\n",
    "names(DEGs_name_DOWN) <- c(\"1:4 EV\", \"4:1 EV\", \"RAB5A EV\", \"1:4 4:1\")\n",
    "names(DEGs_name_UP) <- c(\"1:4 EV\", \"4:1 EV\", \"RAB5A EV\", \"1:4 4:1\")\n"
   ]
  },
  {
   "cell_type": "code",
   "execution_count": null,
   "id": "2bdb3196-2879-409e-83ed-e650d4343faa",
   "metadata": {
    "vscode": {
     "languageId": "r"
    }
   },
   "outputs": [],
   "source": [
    "ggvenn(DEGs_name_UP, stroke_linetype = 1)\n",
    "ggsave(\"Venn_UP.png\", dpi = 330, width =20, units = \"cm\", height = 20)\n",
    "dev.off()"
   ]
  },
  {
   "cell_type": "code",
   "execution_count": null,
   "id": "258be092-b0eb-49e5-83a9-d80264870e9b",
   "metadata": {
    "vscode": {
     "languageId": "r"
    }
   },
   "outputs": [],
   "source": [
    "ggvenn(DEGs_name_DOWN, stroke_linetype = 1)\n",
    "ggsave(\"Venn_DOWN.png\", dpi = 330, width =20, units = \"cm\", height = 20)\n",
    "dev.off()"
   ]
  },
  {
   "cell_type": "code",
   "execution_count": null,
   "id": "b690dc54-4033-4c89-85a0-89b31fde8c01",
   "metadata": {
    "vscode": {
     "languageId": "r"
    }
   },
   "outputs": [],
   "source": [
    "order <- c('EV_1','EV_2','EV_3','MIX_4.1_1','MIX_4.1_2','MIX_4.1_3','MIX_1.4_1','MIX_1.4_2','MIX_1.4_3','RAB5_1','RAB5_2','RAB5_3')\n",
    "\n",
    "crp <- colorRampPalette(c('blue','white','red'))\n",
    "colors = crp(255)\n",
    "\n",
    "rbind(readcounts_norm %>% \n",
    "      dplyr::select(c(1:12)) %>% \n",
    "      dplyr::filter(rownames(.) %like% \"IFI\"),\n",
    "      readcounts_norm %>% \n",
    "      dplyr::select(c(1:12)) %>% \n",
    "      dplyr::filter(rownames(.) %like% \"OASL\")) %>%\n",
    "      dplyr::select(order) %>%\n",
    "                    pheatmap(., \n",
    "                         annotation_col = annotation_column,\n",
    "                         annotation_colors = ann_colors,\n",
    "                         col=colors,border_color = \"white\",\n",
    "                         cellwidth = 20, cellheight = 20,\n",
    "                         scale = \"row\", cluster_rows=TRUE ,cluster_cols=F,\n",
    "                         filename = \"heatmap_int_1.png\",\n",
    "                         show_rownames = T, labels_row = row.names(.), legend = TRUE,\n",
    "                         angle_col = 45, show_colnames = F)"
   ]
  },
  {
   "cell_type": "code",
   "execution_count": null,
   "id": "740288a3-9db9-4adb-b2ee-a8a5b366338e",
   "metadata": {
    "vscode": {
     "languageId": "r"
    }
   },
   "outputs": [],
   "source": [
    "save.image(file = \"RNA_seq.RData\")"
   ]
  },
  {
   "cell_type": "code",
   "execution_count": null,
   "id": "365c58cb-2072-4236-b02c-fba1d6e89ef3",
   "metadata": {
    "vscode": {
     "languageId": "r"
    }
   },
   "outputs": [],
   "source": [
    "order <- c('EV_1','EV_2','EV_3','MIX_4.1_1','MIX_4.1_2','MIX_4.1_3','MIX_1.4_1','MIX_1.4_2','MIX_1.4_3','RAB5_1','RAB5_2','RAB5_3')\n",
    "\n",
    "combine_unique <- function(vector_list) {\n",
    "  unique_elements <- unique(unlist(vector_list))\n",
    "  return(unique_elements)\n",
    "}\n",
    "\n",
    "gene_int <-  readcounts_norm %>% \n",
    "                    dplyr::select(c(1:12)) %>% \n",
    "                    tibble::rownames_to_column(var = \"RowName\") %>%  # Convert rownames to a column\n",
    "                    filter(grepl(\"TLR\", RowName)) %>%       # Filter rows starting with \"ATF\"\n",
    "                    tibble::column_to_rownames(var = \"RowName\") %>%\n",
    "                    rownames(.)\n",
    "\n",
    "gene_int <- read.table(\"Methilases.txt\", header = F)[,1]\n",
    "\n",
    "All_DEGs <- combine_unique(lapply(DEGs[c(1:3)], function(x) x %>% dplyr::select(\"Gene_name\") %>% pull()))\n",
    "\n",
    "readcounts_norm %>% \n",
    "                    dplyr::select(c(1:12)) %>% \n",
    "                    dplyr::filter(rownames(.) %in% All_DEGs) %>%\n",
    "                    dplyr::filter(rownames(.) %in% gene_int) %>%\n",
    "                    dplyr::select(order) %>%\n",
    "                    pheatmap(., \n",
    "                         annotation_col = annotation_column,\n",
    "                         annotation_colors = ann_colors,\n",
    "                         col=colors,border_color = \"white\",\n",
    "                         cellwidth = 20, cellheight = 20,\n",
    "                         scale = \"row\", cluster_rows=TRUE ,cluster_cols=F,\n",
    "                         filename = \"heatmap_int_7.png\",\n",
    "                         show_rownames = T, labels_row = row.names(.), legend = TRUE,\n",
    "                         angle_col = 45, show_colnames = F)"
   ]
  },
  {
   "cell_type": "code",
   "execution_count": null,
   "id": "302d32dd-61aa-402d-b1dd-f52db6be7a85",
   "metadata": {
    "vscode": {
     "languageId": "r"
    }
   },
   "outputs": [],
   "source": [
    "gene_int <- c('IFI44','IFIH1','IFIT1','IFIT3','IFI35','IFIT2','IFITM2','IFI27','IFI6','IFI16','IFITM3','IFI44L','IFIT5','IFITM1', 'ISG15','ISG20', 'OASL')\n",
    "\n",
    "#gene_int <- intersect(gene_int, DEGs %>% lapply(., function(x) x %>% dplyr::select(\"Gene_name\") %>% pull()) %>% Reduce(c,.))\n",
    "                                                          \n",
    "my_comparison <- list(c(\"MIX_4_1\", \"EV\"),\n",
    "                      c(\"MIX_4_1\", \"MIX_1_4\"),\n",
    "                      c(\"MIX_1_4\", \"RAB5A\"),\n",
    "                      c(\"MIX_1_4\", \"EV\"),\n",
    "                      c(\"RAB5A\", \"EV\"))\n",
    "readcounts_norm %>% \n",
    "                    dplyr::select(c(1:12)) %>% \n",
    "                    dplyr::filter(rownames(.) %in% gene_int) %>%\n",
    "                    melt(.) %>%\n",
    "                    mutate(variable=case_when(variable %in% c(\"EV_1\", \"EV_2\", \"EV_3\") ~ \"EV\", \n",
    "                                              variable %in% c(\"MIX_1.4_1\", \"MIX_1.4_2\", \"MIX_1.4_3\") ~ \"MIX_1_4\",\n",
    "                                              variable %in% c(\"MIX_4.1_1\", \"MIX_4.1_2\", \"MIX_4.1_3\") ~ \"MIX_4_1\",\n",
    "                                              variable %in% c(\"RAB5_1\", \"RAB5_2\", \"RAB5_3\") ~ \"RAB5A\"))%>%\n",
    "                    ggplot(., aes(x=variable, y=value, fill=variable)) + \n",
    "                      geom_boxplot(outlier.colour=\"black\", outlier.shape=1, outlier.size=4, outlier.fill = \"black\", linewidth = 1) +\n",
    "                      scale_x_discrete(limits=c(\"EV\", \"MIX_4_1\", \"MIX_1_4\", \"RAB5A\")) +\n",
    "                      scale_y_continuous(trans='log10') +\n",
    "                      stat_compare_means(label.y = c(20000, 40000, 60000, 80000, 100000), \n",
    "                                         comparisons = my_comparison, \n",
    "                                         method = \"t.test\", \n",
    "                                         label = \"p.format\", \n",
    "                                         size = 6)+\n",
    "                      stat_summary(fun=mean, geom=\"line\", aes(group=1, width=1))  + \n",
    "                      stat_summary(fun=mean, geom=\"point\", width = 1) +\n",
    "                      scale_color_manual(values = mycolors_c) +\n",
    "                      scale_fill_manual(values=mycolors_c) +\n",
    "                      ylim(c(0, 1.2e+05)) +\n",
    "                      theme(plot.title = element_text(color=\"black\", size=15, face=\"bold.italic\"),\n",
    "                        axis.text.x = element_text(angle = 45, face = \"bold\", color = \"black\", size=20, hjust =1), \n",
    "                        axis.title.x = element_text(face = \"bold\", color = \"black\", size = 0),\n",
    "                        axis.text.y = element_text(angle = 0, face = \"bold\", color = \"black\", size=20),\n",
    "                        axis.title.y = element_text(face = \"bold\", color = \"black\", size = 25),\n",
    "                        legend.text = element_text(face = \"bold\", color = \"black\", size = 10),\n",
    "                        legend.position=\"left\",\n",
    "                        panel.background = element_rect(fill = \"white\",colour = \"white\", size = 1, linetype = \"solid\"))+\n",
    "                  ggtitle(\"ISG counts distrubution within condition\") +\n",
    "                  ylab(bquote(~Log[2]~ 'of normalized counts'))\n",
    "ggsave(\"plot_ISG_distibution.svg\")              \n",
    "dev.off()"
   ]
  },
  {
   "cell_type": "code",
   "execution_count": null,
   "id": "cd959c7e-d864-45e7-8eed-bede2271b920",
   "metadata": {
    "vscode": {
     "languageId": "r"
    }
   },
   "outputs": [],
   "source": [
    "gene_int <- c('IFI44','IFIH1','IFIT1','IFIT3','IFI35','IFIT2','IFITM2','IFI27','IFI6','IFI16','IFITM3','IFI44L','IFIT5','IFITM1', 'ISG15','ISG20', 'OASL')\n",
    "\n",
    "gene_int <- intersect(gene_int, DEGs %>% lapply(., function(x) x %>% dplyr::select(\"Gene_name\") %>% pull()) %>% Reduce(c,.))\n",
    "gene_int"
   ]
  },
  {
   "cell_type": "code",
   "execution_count": null,
   "id": "cc5713e9-81c0-448f-8158-0167bfbfe11c",
   "metadata": {
    "vscode": {
     "languageId": "r"
    }
   },
   "outputs": [],
   "source": [
    "gene_int <- append(c('IFI44','IFIH1','IFIT1','IFIT3','IFI35','IFIT2','IFITM2','IFI27','IFI6','IFI16','IFITM3','IFI44L','IFIT5','IFITM1'), \n",
    "                  readcounts_norm %>% \n",
    "                    dplyr::select(c(1:12)) %>% \n",
    "                    dplyr::filter(rownames(.) %in% c('ISG15','ISG20')) %>% \n",
    "                    rownames(.)) %>%\n",
    "            append(., \"OASL\") \n",
    "my_comparison <- list(c(\"MIX_4_1\", \"EV\"),\n",
    "                      c(\"MIX_4_1\", \"MIX_1_4\"),\n",
    "                      c(\"MIX_1_4\", \"RAB5A\"),\n",
    "                      c(\"MIX_1_4\", \"EV\"),\n",
    "                      c(\"RAB5A\", \"EV\"))\n",
    "readcounts_norm %>% \n",
    "                    dplyr::select(c(1:12)) %>% \n",
    "                    dplyr::filter(rownames(.) %in% gene_int) %>%\n",
    "                    melt(.) %>%\n",
    "                    mutate(variable=case_when(variable %in% c(\"EV_1\", \"EV_2\", \"EV_3\") ~ \"EV\", \n",
    "                                              variable %in% c(\"MIX_1.4_1\", \"MIX_1.4_2\", \"MIX_1.4_3\") ~ \"MIX_1_4\",\n",
    "                                              variable %in% c(\"MIX_4.1_1\", \"MIX_4.1_2\", \"MIX_4.1_3\") ~ \"MIX_4_1\",\n",
    "                                              variable %in% c(\"RAB5_1\", \"RAB5_2\", \"RAB5_3\") ~ \"RAB5A\"))%>%\n",
    "                    ggplot(., aes(x=variable, y=value, fill=variable)) + \n",
    "                      geom_boxplot(outlier.colour=\"black\", outlier.shape=1, outlier.size=4, outlier.fill = \"black\", linewidth = 1) +\n",
    "                      scale_x_discrete(limits=c(\"EV\", \"MIX_4_1\", \"MIX_1_4\", \"RAB5A\")) +\n",
    "                      scale_y_continuous(trans='log10') +\n",
    "                      stat_compare_means(label.y = c(75000),\n",
    "                                         label.x = c(1),\n",
    "                                         comparisons = my_comparison, \n",
    "                                         method = \"anova\", \n",
    "                                         label = \"p.signif\", \n",
    "                                         size = 6)+\n",
    "                      stat_summary(fun=mean, geom=\"line\", aes(group=1, width=1))  + \n",
    "                      stat_summary(fun=mean, geom=\"point\", width = 1) +\n",
    "                      scale_color_manual(values = mycolors_c) +\n",
    "                      scale_fill_manual(values=mycolors_c) +\n",
    "                      ylim(c(0, 1.2e+05)) +\n",
    "                      theme(plot.title = element_text(color=\"black\", size=15, face=\"bold.italic\"),\n",
    "                        axis.text.x = element_text(angle = 45, face = \"bold\", color = \"black\", size=20, hjust =1), \n",
    "                        axis.title.x = element_text(face = \"bold\", color = \"black\", size = 0),\n",
    "                        axis.text.y = element_text(angle = 0, face = \"bold\", color = \"black\", size=20),\n",
    "                        axis.title.y = element_text(face = \"bold\", color = \"black\", size = 25),\n",
    "                        legend.text = element_text(face = \"bold\", color = \"black\", size = 10),\n",
    "                        legend.position=\"left\",\n",
    "                        panel.background = element_rect(fill = \"white\",colour = \"white\", size = 1, linetype = \"solid\"))+\n",
    "                  ggtitle(\"ISG counts distrubution within condition\") +\n",
    "                  ylab(bquote(~Log[2]~ 'of normalized counts'))\n",
    "ggsave(\"plot_ISG_distibution.png\", dpi = 330)              \n",
    "dev.off()"
   ]
  },
  {
   "cell_type": "code",
   "execution_count": null,
   "id": "1ff44aea-1d81-4c64-ba5a-faf43b1eef08",
   "metadata": {
    "vscode": {
     "languageId": "r"
    }
   },
   "outputs": [],
   "source": [
    "readcounts_norm %>% \n",
    "                    dplyr::select(c(1:12)) %>% \n",
    "                    dplyr::filter(rownames(.) %like% \"ISG\") %>% \n",
    "                    rownames(.)"
   ]
  },
  {
   "cell_type": "code",
   "execution_count": null,
   "id": "f8196b4f-f583-455d-bdc1-7cf1f6d5cbed",
   "metadata": {
    "scrolled": true,
    "vscode": {
     "languageId": "r"
    }
   },
   "outputs": [],
   "source": [
    "ht <- readcounts_norm %>% \n",
    "                    dplyr::select(c(1:3, 10:12)) %>% \n",
    "                    dplyr::filter(rownames(.) %like% \"GJ\") %>%\n",
    "                    dplyr::filter(rowSums(.) > 0) %>% \n",
    "                    #dplyr::select(order) %>%\n",
    "                    pheatmap(., filename = \"heatmap_connexins.png\",\n",
    "                         annotation_col = annotation_column,\n",
    "                         #cutree_rows = 4,\n",
    "                         annotation_colors = ann_colors,\n",
    "                         col=colors,border_color = \"white\",\n",
    "                         cellwidth = 30, cellheight = 20,\n",
    "                         scale = \"row\", cluster_rows=TRUE , cluster_cols=F,\n",
    "                         show_rownames = T, labels_row = row.names(.), legend = TRUE,\n",
    "                         angle_col = 45, show_colnames = F)"
   ]
  },
  {
   "cell_type": "code",
   "execution_count": null,
   "id": "8a2f5370-ba16-4189-99ee-7c072ee965aa",
   "metadata": {
    "vscode": {
     "languageId": "r"
    }
   },
   "outputs": [],
   "source": [
    "readcounts_norm %>% \n",
    "                    dplyr::select(c(1:12)) %>%\n",
    "                    names()"
   ]
  },
  {
   "cell_type": "code",
   "execution_count": null,
   "id": "44179db4-9dda-4ddd-b7b0-d2a288f827d4",
   "metadata": {
    "vscode": {
     "languageId": "r"
    }
   },
   "outputs": [],
   "source": [
    "readcounts_norm %>% \n",
    "                    dplyr::select(c(1:12)) %>% \n",
    "                    dplyr::filter(rownames(.) %like% \"IFI\") %>%\n",
    "                    dplyr::select(order) %>%\n",
    "                    tibble::rownames_to_column(\"Gene_name\") %>%\n",
    "                    .[match(order_row, rownames(.)),] %>%\n",
    "                    tail(14) %>%\n",
    "                    dplyr::select(\"Gene_name\") %>%\n",
    "                    write.table(., \"homer/to_homer_IF.txt\", sep = \"/t\", col.names = F, row.names = F, quote = F)\n"
   ]
  },
  {
   "cell_type": "code",
   "execution_count": null,
   "id": "2b34b2bf-3e24-47f8-842d-090011481f33",
   "metadata": {
    "vscode": {
     "languageId": "r"
    }
   },
   "outputs": [],
   "source": [
    "readcounts_norm %>% \n",
    "                    dplyr::select(c(1:12)) %>% \n",
    "                    dplyr::filter(rownames(.) %in% c(\"RAB5A\", \"RAB5B\", \"RAB5C\")) %>%\n",
    "                    dplyr::select(order) %>%\n",
    "                    pheatmap(., \n",
    "                         annotation_col = annotation_column,\n",
    "                         annotation_colors = ann_colors,\n",
    "                         col=colors,border_color = \"white\",\n",
    "                         cellwidth = 20, cellheight = 20,\n",
    "                         scale = \"row\", cluster_rows=TRUE ,cluster_cols=F,\n",
    "                         filename = \"ht_RAB5.png\",\n",
    "                         show_rownames = T, labels_row = row.names(.), legend = TRUE,\n",
    "                         angle_col = 45, show_colnames = F)"
   ]
  },
  {
   "cell_type": "code",
   "execution_count": null,
   "id": "2758d0f2-0683-44c6-8209-462e3a45a141",
   "metadata": {
    "vscode": {
     "languageId": "r"
    }
   },
   "outputs": [],
   "source": [
    "tpm3 <- function(counts,len) {\n",
    "  x <- counts/len\n",
    "  return(t(t(x)*1e6/colSums(x)))\n",
    "}"
   ]
  },
  {
   "cell_type": "code",
   "execution_count": null,
   "id": "2a598e91-cf93-422e-b61f-c6f3edf2e3ec",
   "metadata": {
    "vscode": {
     "languageId": "r"
    }
   },
   "outputs": [],
   "source": [
    "to_tpm <- annotations %>% \n",
    "    group_by(external_gene_name) %>% \n",
    "    summarise(transcript_length = max(transcript_length)) %>%\n",
    "    as.data.frame() %>%\n",
    "    filter(!is.na(external_gene_name) & external_gene_name != \"\") %>%\n",
    "    left_join(raw_anno_aggr %>% tibble::rownames_to_column(\"external_gene_name\"), .) %>%\n",
    "    tibble::column_to_rownames(\"external_gene_name\")"
   ]
  },
  {
   "cell_type": "code",
   "execution_count": null,
   "id": "c8f372ff-deb1-424a-863c-5031f44abc2d",
   "metadata": {
    "vscode": {
     "languageId": "r"
    }
   },
   "outputs": [],
   "source": [
    "tpm <- tpm3(to_tpm[1:12], to_tpm$transcript_length)"
   ]
  },
  {
   "cell_type": "code",
   "execution_count": null,
   "id": "e483ed88-a48b-41ba-9ad4-13c58da2875e",
   "metadata": {
    "vscode": {
     "languageId": "r"
    }
   },
   "outputs": [],
   "source": [
    "tpm %>% as.data.frame() %>% tibble::rownames_to_column(\"Gene_name\") %>% write.table(., \"tmp.txt\",quote = F, sep = \"\\t\", col.names = T, row.names = F)"
   ]
  },
  {
   "cell_type": "code",
   "execution_count": null,
   "id": "bea27d4e-98cc-4c73-be4f-f7026dd8c991",
   "metadata": {
    "vscode": {
     "languageId": "r"
    }
   },
   "outputs": [],
   "source": [
    "to_homer_UP <- lapply(DEGs, function(x) x %>% dplyr::filter(padj < 0.05 & log2FoldChange > 0 ) %>% dplyr::select(1))\n",
    "to_homer_DOWN <- lapply(DEGs, function(x) x %>% dplyr::filter(padj < 0.05 & log2FoldChange < 0 ) %>% dplyr::select(1))"
   ]
  },
  {
   "cell_type": "code",
   "execution_count": null,
   "id": "de0125dc-cf28-4a0f-84a4-67c664f88139",
   "metadata": {
    "vscode": {
     "languageId": "r"
    }
   },
   "outputs": [],
   "source": [
    "for(i in names(to_homer_UP)){\n",
    "    write.table(to_homer_UP[[i]], paste(\"./homer/UP_\", i, \"_IF.txt\", sep = \"\"), sep = \"/t\", col.names = F, row.names = F, quote = F)\n",
    "    write.table(to_homer_DOWN[[i]], paste(\"./homer/DOWN_\", i, \"_IF.txt\", sep = \"\"), sep = \"/t\", col.names = F, row.names = F, quote = F)\n",
    "}"
   ]
  },
  {
   "cell_type": "code",
   "execution_count": null,
   "id": "5825ac69-6a66-4ed0-adfa-34cdf9528eaa",
   "metadata": {
    "vscode": {
     "languageId": "r"
    }
   },
   "outputs": [],
   "source": [
    "int_list <- list(UP_not_UP_1_4_and_RAB5 = inner_join(res[[\"MIX_1_4_vs_EV\"]] %>% \n",
    "           as.data.frame() %>%\n",
    "           filter(log2FoldChange > 0 & pvalue < 0.05 ) %>%\n",
    "           dplyr::select(c(2, 6)) %>%\n",
    "            `colnames<-`(paste(names(.), \"MIX_1_4_vs_EV\", sep = \"_\")) %>%\n",
    "           tibble::rownames_to_column(\"Gene_name\"),\n",
    "           \n",
    "           res[[\"RAB5A_vs_EV\"]] %>% \n",
    "           as.data.frame() %>%\n",
    "           filter(log2FoldChange < 0 | padj > 0.05) %>%\n",
    "           dplyr::select(c(2, 6)) %>%\n",
    "            `colnames<-`(paste(names(.), \"RAB5A_vs_EV\", sep = \"_\")) %>%\n",
    "           tibble::rownames_to_column(\"Gene_name\"), \n",
    "           \n",
    "           by=\"Gene_name\"),\n",
    "     \n",
    "    UP_UP_no_UP_14_and_RAB5_and_41 = inner_join(res[[\"MIX_1_4_vs_EV\"]] %>% \n",
    "           as.data.frame() %>%\n",
    "           filter(log2FoldChange > 0 & pvalue < 0.05 ) %>%\n",
    "           dplyr::select(c(2, 6)) %>%\n",
    "            `colnames<-`(paste(names(.), \"MIX_1_4_vs_EV\", sep = \"_\")) %>%\n",
    "           tibble::rownames_to_column(\"Gene_name\"),\n",
    "           \n",
    "           res[[\"RAB5A_vs_EV\"]] %>% \n",
    "           as.data.frame() %>%\n",
    "           filter(log2FoldChange > 0 & padj < 0.05) %>%\n",
    "           dplyr::select(c(2, 6)) %>%\n",
    "            `colnames<-`(paste(names(.), \"RAB5A_vs_EV\", sep = \"_\")) %>%\n",
    "           tibble::rownames_to_column(\"Gene_name\"), \n",
    "           \n",
    "           by=\"Gene_name\") %>%\n",
    "\n",
    "inner_join(., \n",
    "           res[[\"MIX_4_1_vs_EV\"]] %>% \n",
    "           as.data.frame() %>%\n",
    "           filter(log2FoldChange < 0 | pvalue > 0.05 ) %>%\n",
    "           dplyr::select(c(2, 6)) %>%\n",
    "           `colnames<-`(paste(names(.), \"MIX_4_1_vs_EV\", sep = \"_\")) %>%\n",
    "           tibble::rownames_to_column(\"Gene_name\"),\n",
    "    \n",
    "           by=\"Gene_name\")) \n",
    "write.xlsx(int_list, \"int_list.xlsx\", overwrite = T)"
   ]
  },
  {
   "cell_type": "code",
   "execution_count": null,
   "id": "436ba75b-00d1-427d-b6be-96ab7884ff47",
   "metadata": {
    "vscode": {
     "languageId": "r"
    }
   },
   "outputs": [],
   "source": [
    "GO_int <- list()\n",
    "\n",
    "for (i in names(int_list)) {\n",
    "    \n",
    "gostres <- gost(query = int_list[[i]] %>% dplyr::select(\"Gene_name\") %>% pull(),\n",
    "                        organism = \"hsapiens\", \n",
    "                        evcodes = TRUE, \n",
    "                        significant = TRUE, \n",
    "                        correction_method = \"fdr\",\n",
    "                        user_threshold = 0.05, sources = \"GO:BP\") %>%\n",
    "  .[[\"result\"]] %>%\n",
    "  dplyr::select(c(3,4,6, 9,11, 16))%>%\n",
    "  mutate(\"Comparison\"= i, \"Perc_of_enrichment\"=intersection_size / term_size *100)\n",
    "\n",
    "GO_int[[i]] <- gostres\n",
    "    \n",
    "}\n",
    "\n",
    "GO_int <- lapply(GO_int, function(x) data.frame(x) %>% mutate(Perc_if_enrichment2 = intersection_size / nrow(x) *100))"
   ]
  },
  {
   "cell_type": "code",
   "execution_count": null,
   "id": "1bb29896-2c41-4841-950b-27f478d9be53",
   "metadata": {
    "vscode": {
     "languageId": "r"
    }
   },
   "outputs": [],
   "source": [
    "write.xlsx(int_list, \"int_list.xlsx\", overwrite = T)\n",
    "write.xlsx(GO_int, \"int_list_GO.xlsx\", overwrite = T)"
   ]
  },
  {
   "cell_type": "code",
   "execution_count": null,
   "id": "94b442ac-ce66-40df-b997-572e6c43e5dd",
   "metadata": {
    "vscode": {
     "languageId": "r"
    }
   },
   "outputs": [],
   "source": [
    "lapply(GO_int, nrow)\n",
    "\n",
    "for(i in names(GO_int)){\n",
    "    print(nrow(GO_int[[i]]))\n",
    "}"
   ]
  },
  {
   "cell_type": "code",
   "execution_count": null,
   "id": "ead64864-0a05-4f1b-8c15-8b396429b9a2",
   "metadata": {
    "vscode": {
     "languageId": "r"
    }
   },
   "outputs": [],
   "source": [
    "GO_all <- rbind(GO_int$UP_not_UP_1_4_and_RAB5 %>% arrange(-Perc_of_enrichment) %>% head(25), GO_int$UP_UP_no_UP_14_and_RAB5_and_41 %>% arrange(-Perc_of_enrichment) %>% head(25))\n",
    "#GO_all <- rbind(GO_int$UP_not_UP_1_4_and_RAB5 %>% head(25), GO_int$UP_UP_no_UP_14_and_RAB5_and_41 %>% head(25))\n",
    "#anti_join(GO_int$UP_not_UP_1_4_and_RAB5, GO_int$UP_UP_no_UP_14_and_RAB5_and_41 , by = \"term_id\")\n",
    "\n",
    "ggplot(GO_all, aes(x=Comparison, y=term_name, size=Perc_of_enrichment, color=p_value))+\n",
    "  geom_point()+\n",
    "  scale_y_discrete(limits = unique(GO_all$term_name),labels = function(x) str_wrap(unique(GO_all$term_name)))+\n",
    "  #scale_y_discrete(limits=unique(GO_plot$term_name))+\n",
    "  #scale_size(range = c(2, 12))+\n",
    "  scale_color_gradient(low = \"Red\", high = \"grey70\") +\n",
    "  theme(plot.title = element_text(color=\"black\", size=10, face=\"bold.italic\"),\n",
    "        axis.text.x = element_text(angle = 45, face = \"bold\", color = \"black\", size=10, hjust =1), \n",
    "        axis.title.x = element_text(face = \"bold\", color = \"black\", size = 0),\n",
    "        axis.text.y = element_text(angle = 0, face = \"bold\", color = \"black\", size=8),\n",
    "        axis.title.y = element_text(face = \"bold\", color = \"black\", size = 0),\n",
    "        legend.text = element_text(face = \"bold\", color = \"black\", size = 10),\n",
    "        legend.position=\"left\",\n",
    "        panel.background = element_rect(fill = \"white\",colour = \"white\", size = 1, linetype = \"solid\"))+\n",
    "  ggtitle(\"BP with Gprofiler2\")\n",
    "ggsave(\"GO_int_1.png\", dpi = 330, width =20, units = \"cm\", height = 33)\n",
    "dev.off()\n"
   ]
  },
  {
   "cell_type": "code",
   "execution_count": null,
   "id": "fa117c73-7bcd-4fb5-8333-259b50016626",
   "metadata": {
    "vscode": {
     "languageId": "r"
    }
   },
   "outputs": [],
   "source": [
    "source(\"./homer/read_homer_output.R\")"
   ]
  },
  {
   "cell_type": "code",
   "execution_count": null,
   "id": "616d8bf1-85c1-4261-b2a4-2d41ead41c1e",
   "metadata": {
    "vscode": {
     "languageId": "r"
    }
   },
   "outputs": [],
   "source": [
    "GO_all <- rbind(subset(GO_int$UP_not_UP_1_4_and_RAB5, !(GO_int$UP_not_UP_1_4_and_RAB5$term_id %in% GO_int$UP_UP_no_UP_14_and_RAB5_and_41$term_id)),\n",
    "                subset(GO_int$UP_UP_no_UP_14_and_RAB5_and_41, !(GO_int$UP_UP_no_UP_14_and_RAB5_and_41$term_id %in% GO_int$UP_not_UP_1_4_and_RAB5$term_id)) %>% arrange(-p_value)) \n",
    "        \n",
    "GO_all <- rbind(head(GO_all, n = 25), tail(GO_all, n = 25))\n",
    "\n",
    "\n",
    "ggplot(GO_all, aes(x=Comparison, y=term_name, size=Perc_of_enrichment, color=p_value))+\n",
    "  geom_point()+\n",
    "  scale_y_discrete(limits = unique(GO_all$term_name),labels = function(x) str_wrap(unique(GO_all$term_name)))+\n",
    "  #scale_y_discrete(limits=unique(GO_plot$term_name))+\n",
    "  #scale_size(range = c(2, 12))+\n",
    "  scale_color_gradient(low = \"Red\", high = \"grey70\") +\n",
    "  theme(plot.title = element_text(color=\"black\", size=10, face=\"bold.italic\"),\n",
    "        axis.text.x = element_text(angle = 45, face = \"bold\", color = \"black\", size=10, hjust =1), \n",
    "        axis.title.x = element_text(face = \"bold\", color = \"black\", size = 0),\n",
    "        axis.text.y = element_text(angle = 0, face = \"bold\", color = \"black\", size=8),\n",
    "        axis.title.y = element_text(face = \"bold\", color = \"black\", size = 0),\n",
    "        legend.text = element_text(face = \"bold\", color = \"black\", size = 10),\n",
    "        legend.position=\"left\",\n",
    "        panel.background = element_rect(fill = \"white\",colour = \"white\", size = 1, linetype = \"solid\"))+\n",
    "  ggtitle(\"BP with Gprofiler2\")\n",
    "ggsave(\"GO_int_1_non_common.png\", dpi = 330, width =20, units = \"cm\", height = 25)\n",
    "dev.off()"
   ]
  },
  {
   "cell_type": "code",
   "execution_count": null,
   "id": "a64ee49f-adf6-410c-9035-57cc718f9f56",
   "metadata": {
    "vscode": {
     "languageId": "r"
    }
   },
   "outputs": [],
   "source": [
    "GO_all <- rbind(subset(GO_int$UP_not_UP_1_4_and_RAB5, !(GO_int$UP_not_UP_1_4_and_RAB5$term_id %in% GO_int$UP_UP_no_UP_14_and_RAB5_and_41$term_id)),\n",
    "                subset(GO_int$UP_UP_no_UP_14_and_RAB5_and_41, !(GO_int$UP_UP_no_UP_14_and_RAB5_and_41$term_id %in% GO_int$UP_not_UP_1_4_and_RAB5$term_id)) %>% arrange(-p_value)) \n",
    "        \n",
    "GO_all <- rbind(head(GO_all, n = 1), tail(GO_all, n = 1))\n",
    "\n",
    "GO_all"
   ]
  },
  {
   "cell_type": "code",
   "execution_count": null,
   "id": "8192ed98-4a01-4254-b6cf-cf6482bc5033",
   "metadata": {
    "vscode": {
     "languageId": "r"
    }
   },
   "outputs": [],
   "source": [
    "ggvenn::ggvenn(lapply(GO_int, function(x) x %>% dplyr::select(\"term_id\") %>% pull()), stroke_linetype = 1)\n"
   ]
  },
  {
   "cell_type": "code",
   "execution_count": null,
   "id": "4b7fcc54-cc98-42f8-b349-6f4de4e293aa",
   "metadata": {
    "vscode": {
     "languageId": "r"
    }
   },
   "outputs": [],
   "source": [
    "names(int_list)"
   ]
  },
  {
   "cell_type": "code",
   "execution_count": null,
   "id": "6ac6ef51-15df-43ec-abd1-c99184696f4d",
   "metadata": {
    "vscode": {
     "languageId": "r"
    }
   },
   "outputs": [],
   "source": [
    "readcounts_norm %>% \n",
    "                    dplyr::select(c(1:12)) %>% \n",
    "                    dplyr::filter(rownames(.) %in% c(\"RAB5A\", \"RAB5B\", \"RAB5C\")) %>%\n",
    "                    #dplyr::select(order) %>%\n",
    "                    tibble::rownames_to_column(\"Gene_name\") %>%\n",
    "                    melt() %>%\n",
    "                    mutate(variable=case_when(variable %in% c(\"EV_1\", \"EV_2\", \"EV_3\") ~ \"EV\", \n",
    "                                              variable %in% c(\"MIX_1.4_1\", \"MIX_1.4_2\", \"MIX_1.4_3\") ~ \"MIX_1_4\",\n",
    "                                              variable %in% c(\"MIX_4.1_1\", \"MIX_4.1_2\", \"MIX_4.1_3\") ~ \"MIX_4_1\",\n",
    "                                              variable %in% c(\"RAB5_1\", \"RAB5_2\", \"RAB5_3\") ~ \"RAB5A\")) %>%\n",
    "ggplot(., aes(x=variable, y=log2(value), color=as.factor(variable))) +\n",
    "    geom_violin(trim=FALSE) +\n",
    "    scale_color_manual(values = mycolors_c) +\n",
    "    scale_fill_manual(values=mycolors_c) +\n",
    "    geom_boxplot(fill = \"white\", outlier.colour = \"black\", outlier.shape = 1)+\n",
    "    #geom_jitter(width = 0.1)+\n",
    "    facet_wrap(~Gene_name, scale=\"free\") +\n",
    "    theme(plot.title = element_text(color=\"black\", size=26, face=\"bold.italic\"),\n",
    "        axis.text.x = element_text(angle = 45, face = \"bold\", color = \"black\", size=10, hjust =1), \n",
    "        axis.title.x = element_text(face = \"bold\", color = \"black\", size = 24),\n",
    "        axis.text.y = element_text(angle = 0, face = \"bold\", color = \"black\", size=10),\n",
    "        axis.title.y = element_text(face = \"bold\", color = \"black\", size = 10),\n",
    "        legend.text = element_text(face = \"bold\", color = \"black\", size = 10),\n",
    "        legend.position=\"top\",\n",
    "        panel.background = element_rect(fill = \"white\",colour = \"black\", size = 1, linetype = \"solid\")) +\n",
    "  xlab(\"\") + ylab(\"Log2 of normalized counts\")\n",
    "ggsave(\"Vio_plot.png\", dpi = 330)\n"
   ]
  },
  {
   "cell_type": "code",
   "execution_count": null,
   "id": "28ee6900-5b75-470c-b4e3-3b4a529c5400",
   "metadata": {
    "vscode": {
     "languageId": "r"
    }
   },
   "outputs": [],
   "source": [
    "mycolors_c"
   ]
  },
  {
   "cell_type": "code",
   "execution_count": null,
   "id": "ef6a851b-f77e-4f15-b856-68801e4be6cd",
   "metadata": {
    "vscode": {
     "languageId": "r"
    }
   },
   "outputs": [],
   "source": [
    "read.table(\"GO_to_plot.txt\", header = F)[,1]\n"
   ]
  },
  {
   "cell_type": "code",
   "execution_count": null,
   "id": "5fe847bc-9409-4bc3-aff9-14be81917cc1",
   "metadata": {
    "vscode": {
     "languageId": "r"
    }
   },
   "outputs": [],
   "source": [
    " res[[\"RAB5A_vs_EV\"]] %>% as.data.frame() %>% \n",
    "    dplyr::filter(rownames(.) %like% \"GJ\" & padj < 0.05) %>%\n",
    "    dplyr::mutate(\"Condition\" = \"RAB5A_vs_EV\", \"log10_Padj\" = -log10(padj)) %>%\n",
    "    tibble::rownames_to_column(\"Gene_name\") %>%\n",
    "    ggplot(., aes(x=Condition, y = reorder(Gene_name, log2FoldChange), size= log10_Padj, color=log2FoldChange)) +\n",
    "        geom_point() +\n",
    "        scale_color_gradient2(low=\"blue\", high=\"red\", mid = \"white\") +\n",
    "        theme(plot.title = element_text(color=\"black\", size=26, face=\"bold.italic\"),\n",
    "        axis.text.x = element_text(angle = 45, face = \"bold\", color = \"black\", size=10, hjust =1), \n",
    "        axis.title.x = element_text(face = \"bold\", color = \"black\", size = 24),\n",
    "        axis.text.y = element_text(angle = 0, face = \"bold\", color = \"black\", size=10),\n",
    "        axis.title.y = element_text(face = \"bold\", color = \"black\", size = 10),\n",
    "        legend.text = element_text(face = \"bold\", color = \"black\", size = 10),\n",
    "        legend.position=\"top\",\n",
    "        panel.background = element_rect(fill = \"white\",colour = \"black\", size = 1, linetype = \"solid\")) +\n",
    "  xlab(\"\") + ylab(\"\")\n",
    "ggsave(\"dot_plot_connexin.png\", dpi = 330, height = 10, width = 4, units = \"cm\")\n",
    "dev.off()\n",
    "        \n",
    "    "
   ]
  },
  {
   "cell_type": "code",
   "execution_count": null,
   "id": "c51f3fb0-0348-4a56-a952-077dc6c18253",
   "metadata": {
    "vscode": {
     "languageId": "r"
    }
   },
   "outputs": [],
   "source": [
    "crp <- colorRampPalette(c('blue', 'white','red'))\n",
    "colors = crp(255)\n",
    "order <- c('EV_1','EV_2','EV_3','MIX_4.1_1','MIX_4.1_2','MIX_4.1_3','MIX_1.4_1','MIX_1.4_2','MIX_1.4_3','RAB5_1','RAB5_2','RAB5_3')\n",
    "mat <- readcounts_norm %>% \n",
    "                         #dplyr::select(c(1:12)) %>%\n",
    "                         filter(Gene_name %in% pathways.hallmark$HALLMARK_INTERFERON_GAMMA_RESPONSE) %>%\n",
    "                         dplyr::select(order)\n",
    "\n",
    "DEGS_heatmap <- pheatmap(mat, \n",
    "                         annotation_col = annotation_column,\n",
    "                         annotation_colors = ann_colors,\n",
    "                         col=colors,border_color = \"white\",\n",
    "                         cellwidth = 20, cellheight = 10,\n",
    "                         scale = \"row\", cluster_rows=TRUE ,cluster_cols=F,\n",
    "                         main = \"HALLMARK INTERFERON GAMMA RESPONSE\",filename = \"HALLMARK_INTERFERON_GAMMA_RESPONSE.png\",\n",
    "                         show_rownames = T, labels_row = row.names(mat), legend = TRUE,\n",
    "                         angle_col = 45, show_colnames = FALSE)"
   ]
  },
  {
   "cell_type": "code",
   "execution_count": null,
   "id": "a476cff7-3da6-44ae-860c-f806e0d2167a",
   "metadata": {
    "vscode": {
     "languageId": "r"
    }
   },
   "outputs": [],
   "source": [
    "crp <- colorRampPalette(c('blue', 'white','red'))\n",
    "colors = crp(255)\n",
    "order <- c('EV_1','EV_2','EV_3','MIX_4.1_1','MIX_4.1_2','MIX_4.1_3','MIX_1.4_1','MIX_1.4_2','MIX_1.4_3','RAB5_1','RAB5_2','RAB5_3')\n",
    "\n",
    "KRT_DEGS <- res[1:3] %>% \n",
    "    lapply(., function(x) x %>%\n",
    "               as.data.frame() %>%\n",
    "               filter(row.names(x) %like% \"KRT\" & padj < .05) %>%\n",
    "               tibble::rownames_to_column(\"Gene_name\") %>% \n",
    "                arrange(baseMean) %>%\n",
    "               dplyr::select(Gene_name) %>%\n",
    "               pull()) %>%\n",
    "    unlist()  %>% \n",
    "    unique(Reduce(c,.))\n",
    "\n",
    "readcounts_norm %>% \n",
    "                    dplyr::select(c(1:12)) %>% \n",
    "                    dplyr::filter(rownames(.) %in% KRT_DEGS) %>%\n",
    "                    dplyr::select(all_of(order)) %>%\n",
    "                    pheatmap(., \n",
    "                         annotation_col = annotation_column,\n",
    "                         annotation_colors = ann_colors,\n",
    "                         col=colors,border_color = \"white\",\n",
    "                         cellwidth = 20, cellheight = 10,\n",
    "                         scale = \"column\", cluster_rows=T ,cluster_cols=F,\n",
    "                         filename = \"ht_KRT.png\",\n",
    "                         show_rownames = T, labels_row = row.names(.), legend = TRUE,\n",
    "                         angle_col = 45, show_colnames = F)"
   ]
  },
  {
   "cell_type": "code",
   "execution_count": null,
   "id": "b5e1ce9d-45bd-443c-b326-61ec93ef1cb0",
   "metadata": {
    "vscode": {
     "languageId": "r"
    }
   },
   "outputs": [],
   "source": [
    "readcounts_norm %>%\n",
    "    filter(rownames(.) %in% c(\"RAB5A\", \"DDR1\")) %>% \n",
    "    dplyr::select(1:12) %>%\n",
    "    t() %>%\n",
    "    as.data.frame() %>%\n",
    "    tibble::rownames_to_column(\"Sample\") %>%\n",
    "    mutate(condition=metadata$condition, rep=metadata$samples)"
   ]
  },
  {
   "cell_type": "code",
   "execution_count": null,
   "id": "cf422867-c98c-427e-826a-c6ebf10d98b5",
   "metadata": {
    "vscode": {
     "languageId": "r"
    }
   },
   "outputs": [],
   "source": [
    "to_corr <- readcounts_norm %>%\n",
    "    filter(rownames(.) %in% c(\"RAB5A\", \"DDR1\")) %>% \n",
    "    dplyr::select(1:12) %>%\n",
    "    t() %>%\n",
    "    as.data.frame() %>%\n",
    "    tibble::rownames_to_column(\"Sample\") %>%\n",
    "    mutate(condition=metadata$condition, rep=metadata$samples) %>%\n",
    "    #filter(condition %in% c(\"MIX_4_1\", \"MIX_1_4\")) %>%\n",
    "    as.data.frame() \n",
    "\n",
    "# Compute Pearson correlation\n",
    "correlation <- cor(to_corr$RAB5A, to_corr$DDR1, method = \"pearson\")\n",
    "\n",
    "# Print correlation result\n",
    "print(paste(\"Pearson correlation coefficient:\", round(correlation, 3)))\n",
    "\n",
    "# Plot correlation\n",
    "ggplot(to_corr, aes(x=RAB5A, y=DDR1, color=as.factor(condition), shape=rep)) +\n",
    "  geom_point(size=5) +\n",
    "  geom_smooth(method=\"lm\", col=\"red\", se=FALSE) +  # Add a trend line\n",
    "  labs(title=paste(\"Pearson Correlation: \", round(correlation, 3)),\n",
    "       x=\"RAB5A Expression\", y=\"DDR1 Expression\") +\n",
    "  theme(plot.title = element_text(color=\"black\", size=20, face=\"bold.italic\"),\n",
    "        axis.text.x = element_text(angle = 90, face = \"bold\", color = \"black\", size=10, hjust =1), \n",
    "        axis.title.x = element_text(face = \"bold\", color = \"black\", size = 20),\n",
    "        axis.text.y = element_text(angle = 0, face = \"bold\", color = \"black\", size=10),\n",
    "        axis.title.y = element_text(face = \"bold\", color = \"black\", size = 20),\n",
    "        legend.text = element_text(face = \"bold\", color = \"black\", size = 10),\n",
    "        legend.position=\"top\",\n",
    "        panel.background = element_rect(fill = \"white\",colour = \"black\", size = 1, linetype = \"solid\"))\n",
    "ggsave(\"corr_all.png\")"
   ]
  }
 ],
 "metadata": {
  "kernelspec": {
   "display_name": "R",
   "language": "R",
   "name": "ir"
  },
  "language_info": {
   "codemirror_mode": "r",
   "file_extension": ".r",
   "mimetype": "text/x-r-source",
   "name": "R",
   "pygments_lexer": "r",
   "version": "4.3.2"
  }
 },
 "nbformat": 4,
 "nbformat_minor": 5
}
